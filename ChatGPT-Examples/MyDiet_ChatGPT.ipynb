{
 "cells": [
  {
   "cell_type": "markdown",
   "metadata": {
    "id": "dBtrouRqjr1E"
   },
   "source": [
    "# My Diet with ChatGPT\n",
    "### notebook version\n",
    "Designing my diet with ChatGPT\n",
    "\n",
    "raul.arrabales | Aug. '23\n"
   ]
  },
  {
   "cell_type": "markdown",
   "metadata": {
    "id": "AAhBnYAaj_MB",
    "jp-MarkdownHeadingCollapsed": true,
    "tags": []
   },
   "source": [
    "## Install required packages"
   ]
  },
  {
   "cell_type": "code",
   "execution_count": 1,
   "metadata": {
    "colab": {
     "base_uri": "https://localhost:8080/"
    },
    "id": "eGpQEj0Qf3oU",
    "outputId": "4a1ed18f-8cda-4d07-d450-cc819350dabd",
    "tags": []
   },
   "outputs": [],
   "source": [
    "# Already satisfied in my container\n",
    "# ! pip install python-dotenv\n",
    "# ! pip install tiktoken\n",
    "# ! pip install openai\n",
    "# ! pip install panel"
   ]
  },
  {
   "cell_type": "markdown",
   "metadata": {
    "id": "gJIGNfhTkHNw",
    "jp-MarkdownHeadingCollapsed": true,
    "tags": []
   },
   "source": [
    "## Connect to my data folder"
   ]
  },
  {
   "cell_type": "code",
   "execution_count": 5,
   "metadata": {
    "colab": {
     "base_uri": "https://localhost:8080/"
    },
    "id": "9kl7z3kNdr1F",
    "outputId": "0a3d2d12-abfb-4e30-e822-764ce562a8f6",
    "tags": []
   },
   "outputs": [],
   "source": [
    "# Using my local container data. \n",
    "# Use the following to use GDrive: \n",
    "\n",
    "# Mount my drive folder\n",
    "# Only for Google Colab\n",
    "# from google.colab import drive\n",
    "# drive.mount('/content/drive')"
   ]
  },
  {
   "cell_type": "markdown",
   "metadata": {
    "id": "zGqlNg9NkM5B",
    "jp-MarkdownHeadingCollapsed": true,
    "tags": []
   },
   "source": [
    "## Libs"
   ]
  },
  {
   "cell_type": "code",
   "execution_count": 217,
   "metadata": {
    "id": "bNfTOZKwcJ9C",
    "tags": []
   },
   "outputs": [],
   "source": [
    "import os\n",
    "import openai\n",
    "import tiktoken\n",
    "from dotenv import load_dotenv, find_dotenv\n",
    "import json\n",
    "from pprint import pprint"
   ]
  },
  {
   "cell_type": "markdown",
   "metadata": {
    "id": "cYG-kz5QkRut",
    "jp-MarkdownHeadingCollapsed": true,
    "tags": []
   },
   "source": [
    "## Setup"
   ]
  },
  {
   "cell_type": "code",
   "execution_count": 8,
   "metadata": {
    "id": "n6IpVtdLcKAO",
    "tags": []
   },
   "outputs": [],
   "source": [
    "# _ = load_dotenv('/content/drive/My Drive/Colab Notebooks/.env') # read drive colab folder .env file\n",
    "_ = load_dotenv('myenv.txt')\n",
    "\n",
    "openai.api_key  = os.environ['OPENAI_API_KEY']"
   ]
  },
  {
   "cell_type": "markdown",
   "metadata": {
    "id": "mDD15ta_kdTt",
    "jp-MarkdownHeadingCollapsed": true,
    "tags": []
   },
   "source": [
    "## OpenAI API Helper functions"
   ]
  },
  {
   "cell_type": "code",
   "execution_count": 9,
   "metadata": {
    "id": "a7dff174",
    "tags": []
   },
   "outputs": [],
   "source": [
    "''' *** get_completion(prompt, model, temp) ***\n",
    "        -----------------------------------\n",
    "Helper function to get a GPT 3.5 Turbo completion\n",
    "Using the chat completion API\n",
    "(https://platform.openai.com/docs/guides/gpt/chat-completions-api)\n",
    "\n",
    "INPUT:\n",
    "- prompt: user's prompt\n",
    "- model: OpenAI model (GPT 3.5 Turbo by default)\n",
    "- temp: model's temperature (0 by default)\n",
    "\n",
    "OUTPUT:\n",
    "- The instruct LLM response\n",
    "'''\n",
    "def get_completion(prompt, model=\"gpt-3.5-turbo\", temp=0):\n",
    "    messages = [{\"role\": \"user\", \"content\": prompt}]\n",
    "    response = openai.ChatCompletion.create(\n",
    "        model=model,\n",
    "        messages=messages,\n",
    "        temperature=temp,\n",
    "    )\n",
    "    return response.choices[0].message[\"content\"]"
   ]
  },
  {
   "cell_type": "code",
   "execution_count": 10,
   "metadata": {
    "id": "AY1bnHDhn7Sn",
    "tags": []
   },
   "outputs": [],
   "source": [
    "''' *** get_completion_from_messages(messages, model, temp) ***\n",
    "        ---------------------------------------------------\n",
    "Helper function to get a GPT 3.5 Turbo completion.\n",
    "In this case, from the list of past messages.\n",
    "Using the chat completion API\n",
    "(https://platform.openai.com/docs/guides/gpt/chat-completions-api)\n",
    "\n",
    "INPUT:\n",
    "- messages: list of messages\n",
    "- model: OpenAI model (GPT 3.5 Turbo by default)\n",
    "- temp: model's temperature (0 by default)\n",
    "\n",
    "OUTPUT:\n",
    "- The instruct LLM response\n",
    "'''\n",
    "def get_completion_from_messages(messages, model=\"gpt-3.5-turbo\", temp=0):\n",
    "    response = openai.ChatCompletion.create(\n",
    "        model=model,\n",
    "        messages=messages,\n",
    "        temperature=temp,\n",
    "    )\n",
    "    return response.choices[0].message[\"content\"]"
   ]
  },
  {
   "cell_type": "code",
   "execution_count": 112,
   "metadata": {
    "tags": []
   },
   "outputs": [],
   "source": [
    "''' *** chat_with_context(prompt) ***\n",
    "        -----------------------------\n",
    "Gets completion using context global variable as the list of messages. \n",
    "Updates the context with current messages. \n",
    "\n",
    "INPUT:\n",
    "- prompt: user's prompt\n",
    "\n",
    "OUTPUT:\n",
    "- Last LLM's response\n",
    "'''\n",
    "def chat_with_context(prompt):\n",
    "    context.append({'role':'user', 'content':f\"{prompt}\"})\n",
    "    response = get_completion_from_messages(context)\n",
    "    context.append({'role':'assistant', 'content':f\"{response}\"})\n",
    "    return response"
   ]
  },
  {
   "cell_type": "code",
   "execution_count": 219,
   "metadata": {
    "tags": []
   },
   "outputs": [],
   "source": [
    "# From https://github.com/openai/openai-cookbook/blob/main/examples/How_to_count_tokens_with_tiktoken.ipynb \n",
    "def num_tokens_from_messages(messages, model=\"gpt-3.5-turbo-0613\"):\n",
    "    \"\"\"Return the number of tokens used by a list of messages.\"\"\"\n",
    "    try:\n",
    "        encoding = tiktoken.encoding_for_model(model)\n",
    "    except KeyError:\n",
    "        print(\"Warning: model not found. Using cl100k_base encoding.\")\n",
    "        encoding = tiktoken.get_encoding(\"cl100k_base\")\n",
    "    if model in {\n",
    "        \"gpt-3.5-turbo-0613\",\n",
    "        \"gpt-3.5-turbo-16k-0613\",\n",
    "        \"gpt-4-0314\",\n",
    "        \"gpt-4-32k-0314\",\n",
    "        \"gpt-4-0613\",\n",
    "        \"gpt-4-32k-0613\",\n",
    "        }:\n",
    "        tokens_per_message = 3\n",
    "        tokens_per_name = 1\n",
    "    elif model == \"gpt-3.5-turbo-0301\":\n",
    "        tokens_per_message = 4  # every message follows <|start|>{role/name}\\n{content}<|end|>\\n\n",
    "        tokens_per_name = -1  # if there's a name, the role is omitted\n",
    "    elif \"gpt-3.5-turbo\" in model:\n",
    "        print(\"Warning: gpt-3.5-turbo may update over time. Returning num tokens assuming gpt-3.5-turbo-0613.\")\n",
    "        return num_tokens_from_messages(messages, model=\"gpt-3.5-turbo-0613\")\n",
    "    elif \"gpt-4\" in model:\n",
    "        print(\"Warning: gpt-4 may update over time. Returning num tokens assuming gpt-4-0613.\")\n",
    "        return num_tokens_from_messages(messages, model=\"gpt-4-0613\")\n",
    "    else:\n",
    "        raise NotImplementedError(\n",
    "            f\"\"\"num_tokens_from_messages() is not implemented for model {model}. See https://github.com/openai/openai-python/blob/main/chatml.md for information on how messages are converted to tokens.\"\"\"\n",
    "        )\n",
    "    num_tokens = 0\n",
    "    for message in messages:\n",
    "        num_tokens += tokens_per_message\n",
    "        for key, value in message.items():\n",
    "            num_tokens += len(encoding.encode(value))\n",
    "            if key == \"name\":\n",
    "                num_tokens += tokens_per_name\n",
    "    num_tokens += 3  # every reply is primed with <|start|>assistant<|message|>\n",
    "    return num_tokens"
   ]
  },
  {
   "cell_type": "markdown",
   "metadata": {
    "id": "bKtvD-R1m7IB",
    "tags": []
   },
   "source": [
    "# Prompt Engineering"
   ]
  },
  {
   "cell_type": "markdown",
   "metadata": {
    "tags": []
   },
   "source": [
    "## First conversation"
   ]
  },
  {
   "cell_type": "code",
   "execution_count": 176,
   "metadata": {
    "tags": []
   },
   "outputs": [],
   "source": [
    "# Starting with an empty context\n",
    "context = []"
   ]
  },
  {
   "cell_type": "markdown",
   "metadata": {
    "tags": []
   },
   "source": [
    "### Getting the list of food categories"
   ]
  },
  {
   "cell_type": "code",
   "execution_count": 177,
   "metadata": {
    "tags": []
   },
   "outputs": [],
   "source": [
    "system_role_prompt = f\"\"\"\n",
    "You are a nutrition expert agent with predilection for the mediterranean diet \\\n",
    "and extensive knowledge about healthy nutritional habits. You are also an expert in gluten-free diets.\n",
    "Your mission is to answer questions about nutrition and cooking, focusing on the reducing the risk of \\\n",
    "metabolic syndrome.\n",
    "\"\"\""
   ]
  },
  {
   "cell_type": "code",
   "execution_count": 178,
   "metadata": {
    "tags": []
   },
   "outputs": [],
   "source": [
    "# List of messages, starting with system's role\n",
    "context.append({'role':'system', 'content':system_role_prompt})"
   ]
  },
  {
   "cell_type": "code",
   "execution_count": 179,
   "metadata": {
    "tags": []
   },
   "outputs": [],
   "source": [
    "Food_prompt_0 = f\"\"\"\n",
    "What are all the food categories to be considered when designing a complete diet for a male adult?\n",
    "Your output should be only the list of food categories, nothing else. \n",
    "\"\"\""
   ]
  },
  {
   "cell_type": "code",
   "execution_count": 180,
   "metadata": {
    "tags": []
   },
   "outputs": [],
   "source": [
    "Food_categories = chat_with_context(Food_prompt_0)"
   ]
  },
  {
   "cell_type": "code",
   "execution_count": 181,
   "metadata": {
    "tags": []
   },
   "outputs": [
    {
     "data": {
      "text/plain": [
       "'Fruits, vegetables, whole grains, lean proteins, dairy or dairy alternatives, healthy fats, and legumes.'"
      ]
     },
     "execution_count": 181,
     "metadata": {},
     "output_type": "execute_result"
    }
   ],
   "source": [
    "Food_categories"
   ]
  },
  {
   "cell_type": "code",
   "execution_count": 182,
   "metadata": {
    "tags": []
   },
   "outputs": [],
   "source": [
    "Food_prompt_1 = f\"\"\"\n",
    "Please add to the list seeds and nuts, and any other categories that might be missing. \n",
    "Please be comprehensive. \n",
    "\"\"\""
   ]
  },
  {
   "cell_type": "code",
   "execution_count": 183,
   "metadata": {
    "tags": []
   },
   "outputs": [],
   "source": [
    "Food_categories = chat_with_context(Food_prompt_1)"
   ]
  },
  {
   "cell_type": "code",
   "execution_count": 184,
   "metadata": {
    "tags": []
   },
   "outputs": [
    {
     "data": {
      "text/plain": [
       "'Fruits, vegetables, whole grains, lean proteins, dairy or dairy alternatives, healthy fats, legumes, seeds, nuts, and herbs/spices.'"
      ]
     },
     "execution_count": 184,
     "metadata": {},
     "output_type": "execute_result"
    }
   ],
   "source": [
    "Food_categories"
   ]
  },
  {
   "cell_type": "code",
   "execution_count": 185,
   "metadata": {
    "tags": []
   },
   "outputs": [],
   "source": [
    "Food_prompt_2 = f\"\"\"\n",
    "What specific factors about food would you consider in order to assess its nutritional value as part of a diet? \\\n",
    "Please, include as factors whether the food is gluten free, glycemic index and trans fats content.\n",
    "Your output should be only the list of relevant factors, nothing else.\n",
    "\"\"\""
   ]
  },
  {
   "cell_type": "markdown",
   "metadata": {
    "jp-MarkdownHeadingCollapsed": true,
    "tags": []
   },
   "source": [
    "### Determining important food factors"
   ]
  },
  {
   "cell_type": "code",
   "execution_count": 186,
   "metadata": {
    "tags": []
   },
   "outputs": [],
   "source": [
    "Food_factors = chat_with_context(Food_prompt_2)"
   ]
  },
  {
   "cell_type": "code",
   "execution_count": 187,
   "metadata": {
    "tags": []
   },
   "outputs": [
    {
     "data": {
      "text/plain": [
       "'Nutritional composition, gluten-free status, glycemic index, and trans fats content.'"
      ]
     },
     "execution_count": 187,
     "metadata": {},
     "output_type": "execute_result"
    }
   ],
   "source": [
    "Food_factors"
   ]
  },
  {
   "cell_type": "code",
   "execution_count": 188,
   "metadata": {
    "tags": []
   },
   "outputs": [],
   "source": [
    "Food_prompt_3 = f\"\"\"\n",
    "Please add to the relevant factor list other aspects that might be relevant for the daily nutritional needs \\\n",
    "of a 46 years old male. Please be comprehensive. \\\n",
    "Your output should be only the new list of relevant factors, nothing else.\n",
    "\"\"\""
   ]
  },
  {
   "cell_type": "code",
   "execution_count": 189,
   "metadata": {
    "tags": []
   },
   "outputs": [
    {
     "data": {
      "text/plain": [
       "'Nutritional composition, gluten-free status, glycemic index, trans fats content, calorie content, macronutrient distribution (carbohydrates, proteins, fats), fiber content, vitamins and minerals, sodium content, cholesterol content, and allergen information.'"
      ]
     },
     "execution_count": 189,
     "metadata": {},
     "output_type": "execute_result"
    }
   ],
   "source": [
    "Food_factors = chat_with_context(Food_prompt_3)\n",
    "Food_factors"
   ]
  },
  {
   "cell_type": "markdown",
   "metadata": {
    "tags": []
   },
   "source": [
    "### Building a JSON with all ingredients"
   ]
  },
  {
   "cell_type": "code",
   "execution_count": 190,
   "metadata": {
    "tags": []
   },
   "outputs": [],
   "source": [
    "Food_prompt_4 = f\"\"\"\n",
    "Using our food categories list and relevant factor list, please \\\n",
    "generate a JSON data structure containing a comprehensive collection of food ingredients. \\\n",
    "For each ingredient include the relevant factor information. \\\n",
    "Your output should be only a well-formatted JSON including all the ingredients you know.\\\n",
    "The structure of the JSON data structure must have two levels: 1) food category and 2) ingredient's name.\n",
    "\"\"\""
   ]
  },
  {
   "cell_type": "code",
   "execution_count": 191,
   "metadata": {
    "tags": []
   },
   "outputs": [],
   "source": [
    "Ingredients = chat_with_context(Food_prompt_4)"
   ]
  },
  {
   "cell_type": "code",
   "execution_count": 206,
   "metadata": {
    "tags": []
   },
   "outputs": [
    {
     "name": "stdout",
     "output_type": "stream",
     "text": [
      "{\n",
      "  \"Fruits\": {\n",
      "    \"Apple\": {\n",
      "      \"Nutritional Composition\": \"Low in calories, high in fiber and vitamin C\",\n",
      "      \"Gluten-Free\": true,\n",
      "      \"Glycemic Index\": 39,\n",
      "      \"Trans Fats Content\": 0\n",
      "    },\n",
      "    \"Banana\": {\n",
      "      \"Nutritional Composition\": \"Good source of potassium, vitamin C, and dietary fiber\",\n",
      "      \"Gluten-Free\": true,\n",
      "      \"Glycemic Index\": 51,\n",
      "      \"Trans Fats Content\": 0\n",
      "    },\n",
      "    ...\n",
      "  },\n",
      "  \"Vegetables\": {\n",
      "    \"Broccoli\": {\n",
      "      \"Nutritional Composition\": \"Rich in fiber, vitamin C, and folate\",\n",
      "      \"Gluten-Free\": true,\n",
      "      \"Glycemic Index\": 10,\n",
      "      \"Trans Fats Content\": 0\n",
      "    },\n",
      "    \"Carrot\": {\n",
      "      \"Nutritional Composition\": \"High in vitamin A, fiber, and antioxidants\",\n",
      "      \"Gluten-Free\": true,\n",
      "      \"Glycemic Index\": 39,\n",
      "      \"Trans Fats Content\": 0\n",
      "    },\n",
      "    ...\n",
      "  },\n",
      "  \"Whole Grains\": {\n",
      "    \"Quinoa\": {\n",
      "      \"Nutritional Composition\": \"High in protein, fiber, and essential amino acids\",\n",
      "      \"Gluten-Free\": true,\n",
      "      \"Glycemic Index\": 53,\n",
      "      \"Trans Fats Content\": 0\n",
      "    },\n",
      "    \"Brown Rice\": {\n",
      "      \"Nutritional Composition\": \"Good source of fiber and minerals\",\n",
      "      \"Gluten-Free\": true,\n",
      "      \"Glycemic Index\": 50,\n",
      "      \"Trans Fats Content\": 0\n",
      "    },\n",
      "    ...\n",
      "  },\n",
      "  \"Lean Proteins\": {\n",
      "    \"Chicken Breast\": {\n",
      "      \"Nutritional Composition\": \"High in protein, low in fat\",\n",
      "      \"Gluten-Free\": true,\n",
      "      \"Glycemic Index\": 0,\n",
      "      \"Trans Fats Content\": 0\n",
      "    },\n",
      "    \"Salmon\": {\n",
      "      \"Nutritional Composition\": \"Rich in omega-3 fatty acids and high-quality protein\",\n",
      "      \"Gluten-Free\": true,\n",
      "      \"Glycemic Index\": 0,\n",
      "      \"Trans Fats Content\": 0\n",
      "    },\n",
      "    ...\n",
      "  },\n",
      "  \"Dairy or Dairy Alternatives\": {\n",
      "    \"Greek Yogurt\": {\n",
      "      \"Nutritional Composition\": \"Good source of protein and calcium\",\n",
      "      \"Gluten-Free\": true,\n",
      "      \"Glycemic Index\": 11,\n",
      "      \"Trans Fats Content\": 0\n",
      "    },\n",
      "    \"Almond Milk\": {\n",
      "      \"Nutritional Composition\": \"Low in calories, no cholesterol, and lactose-free\",\n",
      "      \"Gluten-Free\": true,\n",
      "      \"Glycemic Index\": 25,\n",
      "      \"Trans Fats Content\": 0\n",
      "    },\n",
      "    ...\n",
      "  },\n",
      "  \"Healthy Fats\": {\n",
      "    \"Avocado\": {\n",
      "      \"Nutritional Composition\": \"Rich in monounsaturated fats, fiber, and vitamins\",\n",
      "      \"Gluten-Free\": true,\n",
      "      \"Glycemic Index\": 0,\n",
      "      \"Trans Fats Content\": 0\n",
      "    },\n",
      "    \"Olive Oil\": {\n",
      "      \"Nutritional Composition\": \"High in monounsaturated fats and antioxidants\",\n",
      "      \"Gluten-Free\": true,\n",
      "      \"Glycemic Index\": 0,\n",
      "      \"Trans Fats Content\": 0\n",
      "    },\n",
      "    ...\n",
      "  },\n",
      "  \"Legumes\": {\n",
      "    \"Chickpeas\": {\n",
      "      \"Nutritional Composition\": \"Good source of protein, fiber, and minerals\",\n",
      "      \"Gluten-Free\": true,\n",
      "      \"Glycemic Index\": 28,\n",
      "      \"Trans Fats Content\": 0\n",
      "    },\n",
      "    \"Lentils\": {\n",
      "      \"Nutritional Composition\": \"High in protein, fiber, and folate\",\n",
      "      \"Gluten-Free\": true,\n",
      "      \"Glycemic Index\": 32,\n",
      "      \"Trans Fats Content\": 0\n",
      "    },\n",
      "    ...\n",
      "  },\n",
      "  \"Seeds\": {\n",
      "    \"Chia Seeds\": {\n",
      "      \"Nutritional Composition\": \"Rich in omega-3 fatty acids, fiber, and antioxidants\",\n",
      "      \"Gluten-Free\": true,\n",
      "      \"Glycemic Index\": 1,\n",
      "      \"Trans Fats Content\": 0\n",
      "    },\n",
      "    \"Flaxseeds\": {\n",
      "      \"Nutritional Composition\": \"High in omega-3 fatty acids, fiber, and lignans\",\n",
      "      \"Gluten-Free\": true,\n",
      "      \"Glycemic Index\": 0,\n",
      "      \"Trans Fats Content\": 0\n",
      "    },\n",
      "    ...\n",
      "  },\n",
      "  \"Nuts\": {\n",
      "    \"Almonds\": {\n",
      "      \"Nutritional Composition\": \"Good source of healthy fats, protein, and fiber\",\n",
      "      \"Gluten-Free\": true,\n",
      "      \"Glycemic Index\": 0,\n",
      "      \"Trans Fats Content\": 0\n",
      "    },\n",
      "    \"Walnuts\": {\n",
      "      \"Nutritional Composition\": \"Rich in omega-3 fatty acids and antioxidants\",\n",
      "      \"Gluten-Free\": true,\n",
      "      \"Glycemic Index\": 0,\n",
      "      \"Trans Fats Content\": 0\n",
      "    },\n",
      "    ...\n",
      "  },\n",
      "  \"Herbs/Spices\": {\n",
      "    \"Basil\": {\n",
      "      \"Nutritional Composition\": \"Rich in antioxidants and essential oils\",\n",
      "      \"Gluten-Free\": true,\n",
      "      \"Glycemic Index\": 0,\n",
      "      \"Trans Fats Content\": 0\n",
      "    },\n",
      "    \"Turmeric\": {\n",
      "      \"Nutritional Composition\": \"Anti-inflammatory properties and rich in antioxidants\",\n",
      "      \"Gluten-Free\": true,\n",
      "      \"Glycemic Index\": 0,\n",
      "      \"Trans Fats Content\": 0\n",
      "    },\n",
      "    ...\n",
      "  }\n",
      "}\n"
     ]
    }
   ],
   "source": [
    "print(Ingredients)"
   ]
  },
  {
   "cell_type": "code",
   "execution_count": null,
   "metadata": {},
   "outputs": [],
   "source": [
    "# ChatGPT gave us a example with elipsis, which won't parse well. \n",
    "# Remove them before parsing\n",
    "Ingredients_fixed = Ingredients.replace(\",\\n    ...\\n\",\"\")"
   ]
  },
  {
   "cell_type": "code",
   "execution_count": 209,
   "metadata": {
    "tags": []
   },
   "outputs": [],
   "source": [
    "ingredients_json = json.loads(Ingredients_fixed)"
   ]
  },
  {
   "cell_type": "code",
   "execution_count": 210,
   "metadata": {
    "tags": []
   },
   "outputs": [
    {
     "name": "stdout",
     "output_type": "stream",
     "text": [
      "['Fruits', 'Vegetables', 'Whole Grains', 'Lean Proteins', 'Dairy or Dairy Alternatives', 'Healthy Fats', 'Legumes', 'Seeds', 'Nuts', 'Herbs/Spices']\n"
     ]
    }
   ],
   "source": [
    "# Food categories\n",
    "print(list(ingredients_json.keys()))"
   ]
  },
  {
   "cell_type": "code",
   "execution_count": 211,
   "metadata": {
    "tags": []
   },
   "outputs": [
    {
     "name": "stdout",
     "output_type": "stream",
     "text": [
      "Fruits: ['Apple', 'Banana']\n",
      "Vegetables: ['Broccoli', 'Carrot']\n",
      "Whole Grains: ['Quinoa', 'Brown Rice']\n",
      "Lean Proteins: ['Chicken Breast', 'Salmon']\n",
      "Dairy or Dairy Alternatives: ['Greek Yogurt', 'Almond Milk']\n",
      "Healthy Fats: ['Avocado', 'Olive Oil']\n",
      "Legumes: ['Chickpeas', 'Lentils']\n",
      "Seeds: ['Chia Seeds', 'Flaxseeds']\n",
      "Nuts: ['Almonds', 'Walnuts']\n",
      "Herbs/Spices: ['Basil', 'Turmeric']\n"
     ]
    }
   ],
   "source": [
    "# Lists of ingredients\n",
    "for category in ingredients_json.keys():\n",
    "    print(category +\": \" +str(list(ingredients_json.get(category).keys())))"
   ]
  },
  {
   "cell_type": "code",
   "execution_count": 212,
   "metadata": {
    "tags": []
   },
   "outputs": [
    {
     "data": {
      "text/plain": [
       "{'Nutritional Composition': 'High in protein, low in fat',\n",
       " 'Gluten-Free': True,\n",
       " 'Glycemic Index': 0,\n",
       " 'Trans Fats Content': 0}"
      ]
     },
     "execution_count": 212,
     "metadata": {},
     "output_type": "execute_result"
    }
   ],
   "source": [
    "# Details of ingredient\n",
    "ingredients_json.get('Lean Proteins').get('Chicken Breast')"
   ]
  },
  {
   "cell_type": "code",
   "execution_count": 213,
   "metadata": {
    "tags": []
   },
   "outputs": [
    {
     "data": {
      "text/plain": [
       "{'Nutritional Composition': 'Rich in fiber, vitamin C, and folate',\n",
       " 'Gluten-Free': True,\n",
       " 'Glycemic Index': 10,\n",
       " 'Trans Fats Content': 0}"
      ]
     },
     "execution_count": 213,
     "metadata": {},
     "output_type": "execute_result"
    }
   ],
   "source": [
    "# Details of ingredient\n",
    "ingredients_json.get('Vegetables').get('Broccoli')"
   ]
  },
  {
   "cell_type": "code",
   "execution_count": 221,
   "metadata": {
    "tags": []
   },
   "outputs": [
    {
     "data": {
      "text/plain": [
       "1668"
      ]
     },
     "execution_count": 221,
     "metadata": {},
     "output_type": "execute_result"
    }
   ],
   "source": [
    "# Are we close to max tokens (4k)??\n",
    "num_tokens_from_messages(context) "
   ]
  },
  {
   "cell_type": "code",
   "execution_count": 224,
   "metadata": {
    "tags": []
   },
   "outputs": [],
   "source": [
    "Food_prompt_5 = f\"\"\"\n",
    "Add the following ingredients to the JSON (including their relevant factors): \n",
    "###\n",
    "Fruits: ['pineapple', 'strawberry', 'grapes', 'pears', 'mango', 'kiwi', 'orange', 'peach', 'plum', 'apricot']\n",
    "Vegetables: ['mushrooms', 'artichoke', 'aubergine', 'asparagus', 'caouliflower', 'green beans', 'chard', 'zucchini']\n",
    "Whole Grains: ['oatmeal', 'whole wheat']\n",
    "Lean Proteins: ['lean beef', 'White-fleshed fish']\n",
    "Dairy or Dairy Alternatives: ['kefir']\n",
    "Legumes: ['soybeans', 'peanuts', 'green peas']\n",
    "Seeds: ['sunflower seeds', 'pumpkim pipes']\n",
    "###\n",
    "Your output should be only the new JSON with no elipsis. \n",
    "\"\"\""
   ]
  },
  {
   "cell_type": "code",
   "execution_count": 227,
   "metadata": {
    "tags": []
   },
   "outputs": [],
   "source": [
    "Ingredients = chat_with_context(Food_prompt_5)"
   ]
  },
  {
   "cell_type": "code",
   "execution_count": 231,
   "metadata": {
    "tags": []
   },
   "outputs": [
    {
     "name": "stdout",
     "output_type": "stream",
     "text": [
      "{\n",
      "  \"Fruits\": {\n",
      "    \"Apple\": {\n",
      "      \"Nutritional Composition\": \"Low in calories, high in fiber and vitamin C\",\n",
      "      \"Gluten-Free\": true,\n",
      "      \"Glycemic Index\": 39,\n",
      "      \"Trans Fats Content\": 0\n",
      "    },\n",
      "    \"Banana\": {\n",
      "      \"Nutritional Composition\": \"Good source of potassium, vitamin C, and dietary fiber\",\n",
      "      \"Gluten-Free\": true,\n",
      "      \"Glycemic Index\": 51,\n",
      "      \"Trans Fats Content\": 0\n",
      "    },\n",
      "    \"Pineapple\": {\n",
      "      \"Nutritional Composition\": \"Rich in vitamin C, manganese, and bromelain\",\n",
      "      \"Gluten-Free\": true,\n",
      "      \"Glycemic Index\": 59,\n",
      "      \"Trans Fats Content\": 0\n",
      "    },\n",
      "    \"Strawberry\": {\n",
      "      \"Nutritional Composition\": \"High in vitamin C, fiber, and antioxidants\",\n",
      "      \"Gluten-Free\": true,\n",
      "      \"Glycemic Index\": 40,\n",
      "      \"Trans Fats Content\": 0\n",
      "    },\n",
      "    \"Grapes\": {\n",
      "      \"Nutritional Composition\": \"Good source of antioxidants and vitamins\",\n",
      "      \"Gluten-Free\": true,\n",
      "      \"Glycemic Index\": 46,\n",
      "      \"Trans Fats Content\": 0\n",
      "    },\n",
      "    \"Pears\": {\n",
      "      \"Nutritional Composition\": \"High in fiber, vitamin C, and antioxidants\",\n",
      "      \"Gluten-Free\": true,\n",
      "      \"Glycemic Index\": 38,\n",
      "      \"Trans Fats Content\": 0\n",
      "    },\n",
      "    \"Mango\": {\n",
      "      \"Nutritional Composition\": \"Rich in vitamin C, vitamin A, and fiber\",\n",
      "      \"Gluten-Free\": true,\n",
      "      \"Glycemic Index\": 51,\n",
      "      \"Trans Fats Content\": 0\n",
      "    },\n",
      "    \"Kiwi\": {\n",
      "      \"Nutritional Composition\": \"High in vitamin C, vitamin K, and fiber\",\n",
      "      \"Gluten-Free\": true,\n",
      "      \"Glycemic Index\": 53,\n",
      "      \"Trans Fats Content\": 0\n",
      "    },\n",
      "    \"Orange\": {\n",
      "      \"Nutritional Composition\": \"Rich in vitamin C, folate, and antioxidants\",\n",
      "      \"Gluten-Free\": true,\n",
      "      \"Glycemic Index\": 43,\n",
      "      \"Trans Fats Content\": 0\n",
      "    },\n",
      "    \"Peach\": {\n",
      "      \"Nutritional Composition\": \"Good source of vitamin C, vitamin A, and fiber\",\n",
      "      \"Gluten-Free\": true,\n",
      "      \"Glycemic Index\": 42,\n",
      "      \"Trans Fats Content\": 0\n",
      "    },\n",
      "    \"Plum\": {\n",
      "      \"Nutritional Composition\": \"High in vitamin C, vitamin K, and fiber\",\n",
      "      \"Gluten-Free\": true,\n",
      "      \"Glycemic Index\": 39,\n",
      "      \"Trans Fats Content\": 0\n",
      "    },\n",
      "    \"Apricot\": {\n",
      "      \"Nutritional Composition\": \"Rich in vitamin A, vitamin C, and fiber\",\n",
      "      \"Gluten-Free\": true,\n",
      "      \"Glycemic Index\": 34,\n",
      "      \"Trans Fats Content\": 0\n",
      "    }\n",
      "  },\n",
      "  \"Vegetables\": {\n",
      "    \"Broccoli\": {\n",
      "      \"Nutritional Composition\": \"Rich in fiber, vitamin C, and folate\",\n",
      "      \"Gluten-Free\": true,\n",
      "      \"Glycemic Index\": 10,\n",
      "      \"Trans Fats Content\": 0\n",
      "    },\n",
      "    \"Carrot\": {\n",
      "      \"Nutritional Composition\": \"High in vitamin A, fiber, and antioxidants\",\n",
      "      \"Gluten-Free\": true,\n",
      "      \"Glycemic Index\": 39,\n",
      "      \"Trans Fats Content\": 0\n",
      "    },\n",
      "    \"Mushrooms\": {\n",
      "      \"Nutritional Composition\": \"Low in calories, high in antioxidants and vitamins\",\n",
      "      \"Gluten-Free\": true,\n",
      "      \"Glycemic Index\": 10,\n",
      "      \"Trans Fats Content\": 0\n",
      "    },\n",
      "    \"Artichoke\": {\n",
      "      \"Nutritional Composition\": \"Good source of fiber, vitamin C, and antioxidants\",\n",
      "      \"Gluten-Free\": true,\n",
      "      \"Glycemic Index\": 15,\n",
      "      \"Trans Fats Content\": 0\n",
      "    },\n",
      "    \"Aubergine\": {\n",
      "      \"Nutritional Composition\": \"Low in calories, high in fiber and antioxidants\",\n",
      "      \"Gluten-Free\": true,\n",
      "      \"Glycemic Index\": 15,\n",
      "      \"Trans Fats Content\": 0\n",
      "    },\n",
      "    \"Asparagus\": {\n",
      "      \"Nutritional Composition\": \"Low in calories, high in fiber and vitamins\",\n",
      "      \"Gluten-Free\": true,\n",
      "      \"Glycemic Index\": 15,\n",
      "      \"Trans Fats Content\": 0\n",
      "    },\n",
      "    \"Cauliflower\": {\n",
      "      \"Nutritional Composition\": \"Low in calories, high in fiber and vitamins\",\n",
      "      \"Gluten-Free\": true,\n",
      "      \"Glycemic Index\": 15,\n",
      "      \"Trans Fats Content\": 0\n",
      "    },\n",
      "    \"Green Beans\": {\n",
      "      \"Nutritional Composition\": \"Low in calories, high in fiber and vitamins\",\n",
      "      \"Gluten-Free\": true,\n",
      "      \"Glycemic Index\": 15,\n",
      "      \"Trans Fats Content\": 0\n",
      "    },\n",
      "    \"Chard\": {\n",
      "      \"Nutritional Composition\": \"Rich in vitamins, minerals, and antioxidants\",\n",
      "      \"Gluten-Free\": true,\n",
      "      \"Glycemic Index\": 15,\n",
      "      \"Trans Fats Content\": 0\n",
      "    },\n",
      "    \"Zucchini\": {\n",
      "      \"Nutritional Composition\": \"Low in calories, high in fiber and vitamins\",\n",
      "      \"Gluten-Free\": true,\n",
      "      \"Glycemic Index\": 15,\n",
      "      \"Trans Fats Content\": 0\n",
      "    }\n",
      "  },\n",
      "  \"Whole Grains\": {\n",
      "    \"Quinoa\": {\n",
      "      \"Nutritional Composition\": \"High in protein, fiber, and essential amino acids\",\n",
      "      \"Gluten-Free\": true,\n",
      "      \"Glycemic Index\": 53,\n",
      "      \"Trans Fats Content\": 0\n",
      "    },\n",
      "    \"Brown Rice\": {\n",
      "      \"Nutritional Composition\": \"Good source of fiber and minerals\",\n",
      "      \"Gluten-Free\": true,\n",
      "      \"Glycemic Index\": 50,\n",
      "      \"Trans Fats Content\": 0\n",
      "    },\n",
      "    \"Oatmeal\": {\n",
      "      \"Nutritional Composition\": \"High in fiber, vitamins, and minerals\",\n",
      "      \"Gluten-Free\": true,\n",
      "      \"Glycemic Index\": 55,\n",
      "      \"Trans Fats Content\": 0\n",
      "    },\n",
      "    \"Whole Wheat\": {\n",
      "      \"Nutritional Composition\": \"Good source of fiber and nutrients\",\n",
      "      \"Gluten-Free\": false,\n",
      "      \"Glycemic Index\": 69,\n",
      "      \"Trans Fats Content\": 0\n",
      "    }\n",
      "  },\n",
      "  \"Lean Proteins\": {\n",
      "    \"Chicken Breast\": {\n",
      "      \"Nutritional Composition\": \"High in protein, low in fat\",\n",
      "      \"Gluten-Free\": true,\n",
      "      \"Glycemic Index\": 0,\n",
      "      \"Trans Fats Content\": 0\n",
      "    },\n",
      "    \"Salmon\": {\n",
      "      \"Nutritional Composition\": \"Rich in omega-3 fatty acids and high-quality protein\",\n",
      "      \"Gluten-Free\": true,\n",
      "      \"Glycemic Index\": 0,\n",
      "      \"Trans Fats Content\": 0\n",
      "    },\n",
      "    \"Lean Beef\": {\n",
      "      \"Nutritional Composition\": \"Good source of protein, iron, and vitamins\",\n",
      "      \"Gluten-Free\": true,\n",
      "      \"Glycemic Index\": 0,\n",
      "      \"Trans Fats Content\": 0\n",
      "    },\n",
      "    \"White-fleshed Fish\": {\n",
      "      \"Nutritional Composition\": \"Low in fat, high in protein and omega-3 fatty acids\",\n",
      "      \"Gluten-Free\": true,\n",
      "      \"Glycemic Index\": 0,\n",
      "      \"Trans Fats Content\": 0\n",
      "    }\n",
      "  },\n",
      "  \"Dairy or Dairy Alternatives\": {\n",
      "    \"Greek Yogurt\": {\n",
      "      \"Nutritional Composition\": \"Good source of protein and calcium\",\n",
      "      \"Gluten-Free\": true,\n",
      "      \"Glycemic Index\": 11,\n",
      "      \"Trans Fats Content\": 0\n",
      "    },\n",
      "    \"Almond Milk\": {\n",
      "      \"Nutritional Composition\": \"Low in calories, no cholesterol, and lactose-free\",\n",
      "      \"Gluten-Free\": true,\n",
      "      \"Glycemic Index\": 25,\n",
      "      \"Trans Fats Content\": 0\n",
      "    },\n",
      "    \"Kefir\": {\n",
      "      \"Nutritional Composition\": \"Rich in probiotics, calcium, and vitamins\",\n",
      "      \"Gluten-Free\": true,\n",
      "      \"Glycemic Index\": 30,\n",
      "      \"Trans Fats Content\": 0\n",
      "    }\n",
      "  },\n",
      "  \"Legumes\": {\n",
      "    \"Chickpeas\": {\n",
      "      \"Nutritional Composition\": \"Good source of protein, fiber, and minerals\",\n",
      "      \"Gluten-Free\": true,\n",
      "      \"Glycemic Index\": 28,\n",
      "      \"Trans Fats Content\": 0\n",
      "    },\n",
      "    \"Lentils\": {\n",
      "      \"Nutritional Composition\": \"High in protein, fiber, and folate\",\n",
      "      \"Gluten-Free\": true,\n",
      "      \"Glycemic Index\": 32,\n",
      "      \"Trans Fats Content\": 0\n",
      "    },\n",
      "    \"Soybeans\": {\n",
      "      \"Nutritional Composition\": \"Rich in protein, fiber, and minerals\",\n",
      "      \"Gluten-Free\": true,\n",
      "      \"Glycemic Index\": 15,\n",
      "      \"Trans Fats Content\": 0\n",
      "    },\n",
      "    \"Peanuts\": {\n",
      "      \"Nutritional Composition\": \"Good source of protein, healthy fats, and vitamins\",\n",
      "      \"Gluten-Free\": true\n"
     ]
    }
   ],
   "source": [
    "print(Ingredients)"
   ]
  },
  {
   "cell_type": "code",
   "execution_count": 232,
   "metadata": {
    "tags": []
   },
   "outputs": [
    {
     "data": {
      "text/plain": [
       "4101"
      ]
     },
     "execution_count": 232,
     "metadata": {},
     "output_type": "execute_result"
    }
   ],
   "source": [
    "# And with this we reached the token limit: \n",
    "num_tokens_from_messages(context) "
   ]
  },
  {
   "cell_type": "code",
   "execution_count": 265,
   "metadata": {
    "tags": []
   },
   "outputs": [],
   "source": [
    "# Anyhow, let's fix what we have so far in the JSON\n",
    "Ingredients = \"\"\"\n",
    "{\n",
    "  \"Fruits\": {\n",
    "    \"Apple\": {\n",
    "      \"Nutritional Composition\": \"Low in calories, high in fiber and vitamin C\",\n",
    "      \"Gluten-Free\": true,\n",
    "      \"Glycemic Index\": 39,\n",
    "      \"Trans Fats Content\": 0\n",
    "    },\n",
    "    \"Banana\": {\n",
    "      \"Nutritional Composition\": \"Good source of potassium, vitamin C, and dietary fiber\",\n",
    "      \"Gluten-Free\": true,\n",
    "      \"Glycemic Index\": 51,\n",
    "      \"Trans Fats Content\": 0\n",
    "    },\n",
    "    \"Pineapple\": {\n",
    "      \"Nutritional Composition\": \"Rich in vitamin C, manganese, and bromelain\",\n",
    "      \"Gluten-Free\": true,\n",
    "      \"Glycemic Index\": 59,\n",
    "      \"Trans Fats Content\": 0\n",
    "    },\n",
    "    \"Strawberry\": {\n",
    "      \"Nutritional Composition\": \"High in vitamin C, fiber, and antioxidants\",\n",
    "      \"Gluten-Free\": true,\n",
    "      \"Glycemic Index\": 40,\n",
    "      \"Trans Fats Content\": 0\n",
    "    },\n",
    "    \"Grapes\": {\n",
    "      \"Nutritional Composition\": \"Good source of antioxidants and vitamins\",\n",
    "      \"Gluten-Free\": true,\n",
    "      \"Glycemic Index\": 46,\n",
    "      \"Trans Fats Content\": 0\n",
    "    },\n",
    "    \"Pears\": {\n",
    "      \"Nutritional Composition\": \"High in fiber, vitamin C, and antioxidants\",\n",
    "      \"Gluten-Free\": true,\n",
    "      \"Glycemic Index\": 38,\n",
    "      \"Trans Fats Content\": 0\n",
    "    },\n",
    "    \"Mango\": {\n",
    "      \"Nutritional Composition\": \"Rich in vitamin C, vitamin A, and fiber\",\n",
    "      \"Gluten-Free\": true,\n",
    "      \"Glycemic Index\": 51,\n",
    "      \"Trans Fats Content\": 0\n",
    "    },\n",
    "    \"Kiwi\": {\n",
    "      \"Nutritional Composition\": \"High in vitamin C, vitamin K, and fiber\",\n",
    "      \"Gluten-Free\": true,\n",
    "      \"Glycemic Index\": 53,\n",
    "      \"Trans Fats Content\": 0\n",
    "    },\n",
    "    \"Orange\": {\n",
    "      \"Nutritional Composition\": \"Rich in vitamin C, folate, and antioxidants\",\n",
    "      \"Gluten-Free\": true,\n",
    "      \"Glycemic Index\": 43,\n",
    "      \"Trans Fats Content\": 0\n",
    "    },\n",
    "    \"Peach\": {\n",
    "      \"Nutritional Composition\": \"Good source of vitamin C, vitamin A, and fiber\",\n",
    "      \"Gluten-Free\": true,\n",
    "      \"Glycemic Index\": 42,\n",
    "      \"Trans Fats Content\": 0\n",
    "    },\n",
    "    \"Plum\": {\n",
    "      \"Nutritional Composition\": \"High in vitamin C, vitamin K, and fiber\",\n",
    "      \"Gluten-Free\": true,\n",
    "      \"Glycemic Index\": 39,\n",
    "      \"Trans Fats Content\": 0\n",
    "    },\n",
    "    \"Apricot\": {\n",
    "      \"Nutritional Composition\": \"Rich in vitamin A, vitamin C, and fiber\",\n",
    "      \"Gluten-Free\": true,\n",
    "      \"Glycemic Index\": 34,\n",
    "      \"Trans Fats Content\": 0\n",
    "    }\n",
    "  },\n",
    "  \"Vegetables\": {\n",
    "    \"Broccoli\": {\n",
    "      \"Nutritional Composition\": \"Rich in fiber, vitamin C, and folate\",\n",
    "      \"Gluten-Free\": true,\n",
    "      \"Glycemic Index\": 10,\n",
    "      \"Trans Fats Content\": 0\n",
    "    },\n",
    "    \"Carrot\": {\n",
    "      \"Nutritional Composition\": \"High in vitamin A, fiber, and antioxidants\",\n",
    "      \"Gluten-Free\": true,\n",
    "      \"Glycemic Index\": 39,\n",
    "      \"Trans Fats Content\": 0\n",
    "    },\n",
    "    \"Mushrooms\": {\n",
    "      \"Nutritional Composition\": \"Low in calories, high in antioxidants and vitamins\",\n",
    "      \"Gluten-Free\": true,\n",
    "      \"Glycemic Index\": 10,\n",
    "      \"Trans Fats Content\": 0\n",
    "    },\n",
    "    \"Artichoke\": {\n",
    "      \"Nutritional Composition\": \"Good source of fiber, vitamin C, and antioxidants\",\n",
    "      \"Gluten-Free\": true,\n",
    "      \"Glycemic Index\": 15,\n",
    "      \"Trans Fats Content\": 0\n",
    "    },\n",
    "    \"Aubergine\": {\n",
    "      \"Nutritional Composition\": \"Low in calories, high in fiber and antioxidants\",\n",
    "      \"Gluten-Free\": true,\n",
    "      \"Glycemic Index\": 15,\n",
    "      \"Trans Fats Content\": 0\n",
    "    },\n",
    "    \"Asparagus\": {\n",
    "      \"Nutritional Composition\": \"Low in calories, high in fiber and vitamins\",\n",
    "      \"Gluten-Free\": true,\n",
    "      \"Glycemic Index\": 15,\n",
    "      \"Trans Fats Content\": 0\n",
    "    },\n",
    "    \"Cauliflower\": {\n",
    "      \"Nutritional Composition\": \"Low in calories, high in fiber and vitamins\",\n",
    "      \"Gluten-Free\": true,\n",
    "      \"Glycemic Index\": 15,\n",
    "      \"Trans Fats Content\": 0\n",
    "    },\n",
    "    \"Green Beans\": {\n",
    "      \"Nutritional Composition\": \"Low in calories, high in fiber and vitamins\",\n",
    "      \"Gluten-Free\": true,\n",
    "      \"Glycemic Index\": 15,\n",
    "      \"Trans Fats Content\": 0\n",
    "    },\n",
    "    \"Chard\": {\n",
    "      \"Nutritional Composition\": \"Rich in vitamins, minerals, and antioxidants\",\n",
    "      \"Gluten-Free\": true,\n",
    "      \"Glycemic Index\": 15,\n",
    "      \"Trans Fats Content\": 0\n",
    "    },\n",
    "    \"Zucchini\": {\n",
    "      \"Nutritional Composition\": \"Low in calories, high in fiber and vitamins\",\n",
    "      \"Gluten-Free\": true,\n",
    "      \"Glycemic Index\": 15,\n",
    "      \"Trans Fats Content\": 0\n",
    "    }\n",
    "  },\n",
    "  \"Whole Grains\": {\n",
    "    \"Quinoa\": {\n",
    "      \"Nutritional Composition\": \"High in protein, fiber, and essential amino acids\",\n",
    "      \"Gluten-Free\": true,\n",
    "      \"Glycemic Index\": 53,\n",
    "      \"Trans Fats Content\": 0\n",
    "    },\n",
    "    \"Brown Rice\": {\n",
    "      \"Nutritional Composition\": \"Good source of fiber and minerals\",\n",
    "      \"Gluten-Free\": true,\n",
    "      \"Glycemic Index\": 50,\n",
    "      \"Trans Fats Content\": 0\n",
    "    },\n",
    "    \"Oatmeal\": {\n",
    "      \"Nutritional Composition\": \"High in fiber, vitamins, and minerals\",\n",
    "      \"Gluten-Free\": true,\n",
    "      \"Glycemic Index\": 55,\n",
    "      \"Trans Fats Content\": 0\n",
    "    },\n",
    "    \"Whole Wheat\": {\n",
    "      \"Nutritional Composition\": \"Good source of fiber and nutrients\",\n",
    "      \"Gluten-Free\": false,\n",
    "      \"Glycemic Index\": 69,\n",
    "      \"Trans Fats Content\": 0\n",
    "    }\n",
    "  },\n",
    "  \"Lean Proteins\": {\n",
    "    \"Chicken Breast\": {\n",
    "      \"Nutritional Composition\": \"High in protein, low in fat\",\n",
    "      \"Gluten-Free\": true,\n",
    "      \"Glycemic Index\": 0,\n",
    "      \"Trans Fats Content\": 0\n",
    "    },\n",
    "    \"Salmon\": {\n",
    "      \"Nutritional Composition\": \"Rich in omega-3 fatty acids and high-quality protein\",\n",
    "      \"Gluten-Free\": true,\n",
    "      \"Glycemic Index\": 0,\n",
    "      \"Trans Fats Content\": 0\n",
    "    },\n",
    "    \"Lean Beef\": {\n",
    "      \"Nutritional Composition\": \"Good source of protein, iron, and vitamins\",\n",
    "      \"Gluten-Free\": true,\n",
    "      \"Glycemic Index\": 0,\n",
    "      \"Trans Fats Content\": 0\n",
    "    },\n",
    "    \"White-fleshed Fish\": {\n",
    "      \"Nutritional Composition\": \"Low in fat, high in protein and omega-3 fatty acids\",\n",
    "      \"Gluten-Free\": true,\n",
    "      \"Glycemic Index\": 0,\n",
    "      \"Trans Fats Content\": 0\n",
    "    }\n",
    "  },\n",
    "  \"Dairy or Dairy Alternatives\": {\n",
    "    \"Greek Yogurt\": {\n",
    "      \"Nutritional Composition\": \"Good source of protein and calcium\",\n",
    "      \"Gluten-Free\": true,\n",
    "      \"Glycemic Index\": 11,\n",
    "      \"Trans Fats Content\": 0\n",
    "    },\n",
    "    \"Almond Milk\": {\n",
    "      \"Nutritional Composition\": \"Low in calories, no cholesterol, and lactose-free\",\n",
    "      \"Gluten-Free\": true,\n",
    "      \"Glycemic Index\": 25,\n",
    "      \"Trans Fats Content\": 0\n",
    "    },\n",
    "    \"Kefir\": {\n",
    "      \"Nutritional Composition\": \"Rich in probiotics, calcium, and vitamins\",\n",
    "      \"Gluten-Free\": true,\n",
    "      \"Glycemic Index\": 30,\n",
    "      \"Trans Fats Content\": 0\n",
    "    }\n",
    "  },\n",
    "  \"Legumes\": {\n",
    "    \"Chickpeas\": {\n",
    "      \"Nutritional Composition\": \"Good source of protein, fiber, and minerals\",\n",
    "      \"Gluten-Free\": true,\n",
    "      \"Glycemic Index\": 28,\n",
    "      \"Trans Fats Content\": 0\n",
    "    },\n",
    "    \"Lentils\": {\n",
    "      \"Nutritional Composition\": \"High in protein, fiber, and folate\",\n",
    "      \"Gluten-Free\": true,\n",
    "      \"Glycemic Index\": 32,\n",
    "      \"Trans Fats Content\": 0\n",
    "    },\n",
    "    \"Soybeans\": {\n",
    "      \"Nutritional Composition\": \"Rich in protein, fiber, and minerals\",\n",
    "      \"Gluten-Free\": true,\n",
    "      \"Glycemic Index\": 15,\n",
    "      \"Trans Fats Content\": 0\n",
    "    },\n",
    "    \"Peanuts\": {\n",
    "      \"Nutritional Composition\": \"Good source of protein, healthy fats, and vitamins\",\n",
    "      \"Gluten-Free\": true,\n",
    "\t  \"Glycemic Index\": 14,\n",
    "      \"Trans Fats Content\": 0\n",
    "\t}\n",
    "  },\n",
    "  \"Seeds\": {\n",
    "    \"Chia Seeds\": {\n",
    "      \"Nutritional Composition\": \"Rich in omega-3 fatty acids, fiber, and antioxidants\",\n",
    "      \"Gluten-Free\": true,\n",
    "      \"Glycemic Index\": 1,\n",
    "      \"Trans Fats Content\": 0\n",
    "    },\n",
    "    \"Flaxseeds\": {\n",
    "      \"Nutritional Composition\": \"High in omega-3 fatty acids, fiber, and lignans\",\n",
    "      \"Gluten-Free\": true,\n",
    "      \"Glycemic Index\": 0,\n",
    "      \"Trans Fats Content\": 0\n",
    "    }\n",
    "  },\n",
    "  \"Nuts\": {\n",
    "    \"Almonds\": {\n",
    "      \"Nutritional Composition\": \"Good source of healthy fats, protein, and fiber\",\n",
    "      \"Gluten-Free\": true,\n",
    "      \"Glycemic Index\": 0,\n",
    "      \"Trans Fats Content\": 0\n",
    "    },\n",
    "    \"Walnuts\": {\n",
    "      \"Nutritional Composition\": \"Rich in omega-3 fatty acids and antioxidants\",\n",
    "      \"Gluten-Free\": true,\n",
    "      \"Glycemic Index\": 0,\n",
    "      \"Trans Fats Content\": 0\n",
    "    }\n",
    "  },\n",
    "  \"Herbs/Spices\": {\n",
    "    \"Basil\": {\n",
    "      \"Nutritional Composition\": \"Rich in antioxidants and essential oils\",\n",
    "      \"Gluten-Free\": true,\n",
    "      \"Glycemic Index\": 0,\n",
    "      \"Trans Fats Content\": 0\n",
    "    },\n",
    "    \"Turmeric\": {\n",
    "      \"Nutritional Composition\": \"Anti-inflammatory properties and rich in antioxidants\",\n",
    "      \"Gluten-Free\": true,\n",
    "      \"Glycemic Index\": 0,\n",
    "      \"Trans Fats Content\": 0\n",
    "    }\n",
    "  }\n",
    "}\n",
    "\"\"\"\n",
    "ingredients_json_2 = json.loads(Ingredients)"
   ]
  },
  {
   "cell_type": "code",
   "execution_count": 230,
   "metadata": {
    "tags": []
   },
   "outputs": [
    {
     "data": {
      "text/plain": [
       "4101"
      ]
     },
     "execution_count": 230,
     "metadata": {},
     "output_type": "execute_result"
    }
   ],
   "source": [
    "num_tokens_from_messages(context) "
   ]
  },
  {
   "cell_type": "code",
   "execution_count": 239,
   "metadata": {
    "tags": []
   },
   "outputs": [
    {
     "name": "stdout",
     "output_type": "stream",
     "text": [
      "Fruits: ['Apple', 'Banana', 'Pineapple', 'Strawberry', 'Grapes', 'Pears', 'Mango', 'Kiwi', 'Orange', 'Peach', 'Plum', 'Apricot']\n",
      "Vegetables: ['Broccoli', 'Carrot', 'Mushrooms', 'Artichoke', 'Aubergine', 'Asparagus', 'Cauliflower', 'Green Beans', 'Chard', 'Zucchini']\n",
      "Whole Grains: ['Quinoa', 'Brown Rice', 'Oatmeal', 'Whole Wheat']\n",
      "Lean Proteins: ['Chicken Breast', 'Salmon', 'Lean Beef', 'White-fleshed Fish']\n",
      "Dairy or Dairy Alternatives: ['Greek Yogurt', 'Almond Milk', 'Kefir']\n",
      "Legumes: ['Chickpeas', 'Lentils', 'Soybeans', 'Peanuts']\n",
      "Seeds: ['Chia Seeds', 'Flaxseeds']\n",
      "Nuts: ['Almonds', 'Walnuts']\n",
      "Herbs/Spices: ['Basil', 'Turmeric']\n"
     ]
    }
   ],
   "source": [
    "# Lists of ingredients\n",
    "for category in ingredients_json_2.keys():\n",
    "    print(category +\": \" +str(list(ingredients_json_2.get(category).keys())))"
   ]
  },
  {
   "cell_type": "code",
   "execution_count": 244,
   "metadata": {
    "tags": []
   },
   "outputs": [
    {
     "data": {
      "text/plain": [
       "{'Nutritional Composition': 'Low in fat, high in protein and omega-3 fatty acids',\n",
       " 'Gluten-Free': True,\n",
       " 'Glycemic Index': 0,\n",
       " 'Trans Fats Content': 0}"
      ]
     },
     "execution_count": 244,
     "metadata": {},
     "output_type": "execute_result"
    }
   ],
   "source": [
    "# Details of ingredient\n",
    "ingredients_json_2.get('Lean Proteins').get('White-fleshed Fish')"
   ]
  },
  {
   "cell_type": "code",
   "execution_count": null,
   "metadata": {},
   "outputs": [],
   "source": []
  },
  {
   "cell_type": "code",
   "execution_count": 215,
   "metadata": {
    "tags": []
   },
   "outputs": [
    {
     "data": {
      "text/plain": [
       "[{'role': 'system',\n",
       "  'content': '\\nYou are a nutrition expert agent with predilection for the mediterranean diet and extensive knowledge about healthy nutritional habits. You are also an expert in gluten-free diets.\\nYour mission is to answer questions about nutrition and cooking, focusing on the reducing the risk of metabolic syndrome.\\n'},\n",
       " {'role': 'user',\n",
       "  'content': '\\nWhat are all the food categories to be considered when designing a complete diet for a male adult?\\nYour output should be only the list of food categories, nothing else. \\n'},\n",
       " {'role': 'assistant',\n",
       "  'content': 'Fruits, vegetables, whole grains, lean proteins, dairy or dairy alternatives, healthy fats, and legumes.'},\n",
       " {'role': 'user',\n",
       "  'content': '\\nPlease add to the list seeds and nuts, and any other categories that might be missing. \\nPlease be comprehensive. \\n'},\n",
       " {'role': 'assistant',\n",
       "  'content': 'Fruits, vegetables, whole grains, lean proteins, dairy or dairy alternatives, healthy fats, legumes, seeds, nuts, and herbs/spices.'},\n",
       " {'role': 'user',\n",
       "  'content': '\\nWhat specific factors about food would you consider in order to assess its nutritional value as part of a diet? Please, include as factors whether the food is gluten free, glycemic index and trans fats content.\\nYour output should be only the list of relevant factors, nothing else.\\n'},\n",
       " {'role': 'assistant',\n",
       "  'content': 'Nutritional composition, gluten-free status, glycemic index, and trans fats content.'},\n",
       " {'role': 'user',\n",
       "  'content': '\\nPlease add to the relevant factor list other aspects that might be relevant for the daily nutritional needs of a 46 years old male. Please be comprehensive. Your output should be only the new list of relevant factors, nothing else.\\n'},\n",
       " {'role': 'assistant',\n",
       "  'content': 'Nutritional composition, gluten-free status, glycemic index, trans fats content, calorie content, macronutrient distribution (carbohydrates, proteins, fats), fiber content, vitamins and minerals, sodium content, cholesterol content, and allergen information.'},\n",
       " {'role': 'user',\n",
       "  'content': \"\\nUsing our food categories list and relevant factor list, please generate a JSON data structure containing a comprehensive collection of food ingredients. For each ingredient include the relevant factor information. Your output should be only a well-formatted JSON including all the ingredients you know.The structure of the JSON data structure must have two levels: 1) food category and 2) ingredient's name.\\n\"},\n",
       " {'role': 'assistant',\n",
       "  'content': '{\\n  \"Fruits\": {\\n    \"Apple\": {\\n      \"Nutritional Composition\": \"Low in calories, high in fiber and vitamin C\",\\n      \"Gluten-Free\": true,\\n      \"Glycemic Index\": 39,\\n      \"Trans Fats Content\": 0\\n    },\\n    \"Banana\": {\\n      \"Nutritional Composition\": \"Good source of potassium, vitamin C, and dietary fiber\",\\n      \"Gluten-Free\": true,\\n      \"Glycemic Index\": 51,\\n      \"Trans Fats Content\": 0\\n    },\\n    ...\\n  },\\n  \"Vegetables\": {\\n    \"Broccoli\": {\\n      \"Nutritional Composition\": \"Rich in fiber, vitamin C, and folate\",\\n      \"Gluten-Free\": true,\\n      \"Glycemic Index\": 10,\\n      \"Trans Fats Content\": 0\\n    },\\n    \"Carrot\": {\\n      \"Nutritional Composition\": \"High in vitamin A, fiber, and antioxidants\",\\n      \"Gluten-Free\": true,\\n      \"Glycemic Index\": 39,\\n      \"Trans Fats Content\": 0\\n    },\\n    ...\\n  },\\n  \"Whole Grains\": {\\n    \"Quinoa\": {\\n      \"Nutritional Composition\": \"High in protein, fiber, and essential amino acids\",\\n      \"Gluten-Free\": true,\\n      \"Glycemic Index\": 53,\\n      \"Trans Fats Content\": 0\\n    },\\n    \"Brown Rice\": {\\n      \"Nutritional Composition\": \"Good source of fiber and minerals\",\\n      \"Gluten-Free\": true,\\n      \"Glycemic Index\": 50,\\n      \"Trans Fats Content\": 0\\n    },\\n    ...\\n  },\\n  \"Lean Proteins\": {\\n    \"Chicken Breast\": {\\n      \"Nutritional Composition\": \"High in protein, low in fat\",\\n      \"Gluten-Free\": true,\\n      \"Glycemic Index\": 0,\\n      \"Trans Fats Content\": 0\\n    },\\n    \"Salmon\": {\\n      \"Nutritional Composition\": \"Rich in omega-3 fatty acids and high-quality protein\",\\n      \"Gluten-Free\": true,\\n      \"Glycemic Index\": 0,\\n      \"Trans Fats Content\": 0\\n    },\\n    ...\\n  },\\n  \"Dairy or Dairy Alternatives\": {\\n    \"Greek Yogurt\": {\\n      \"Nutritional Composition\": \"Good source of protein and calcium\",\\n      \"Gluten-Free\": true,\\n      \"Glycemic Index\": 11,\\n      \"Trans Fats Content\": 0\\n    },\\n    \"Almond Milk\": {\\n      \"Nutritional Composition\": \"Low in calories, no cholesterol, and lactose-free\",\\n      \"Gluten-Free\": true,\\n      \"Glycemic Index\": 25,\\n      \"Trans Fats Content\": 0\\n    },\\n    ...\\n  },\\n  \"Healthy Fats\": {\\n    \"Avocado\": {\\n      \"Nutritional Composition\": \"Rich in monounsaturated fats, fiber, and vitamins\",\\n      \"Gluten-Free\": true,\\n      \"Glycemic Index\": 0,\\n      \"Trans Fats Content\": 0\\n    },\\n    \"Olive Oil\": {\\n      \"Nutritional Composition\": \"High in monounsaturated fats and antioxidants\",\\n      \"Gluten-Free\": true,\\n      \"Glycemic Index\": 0,\\n      \"Trans Fats Content\": 0\\n    },\\n    ...\\n  },\\n  \"Legumes\": {\\n    \"Chickpeas\": {\\n      \"Nutritional Composition\": \"Good source of protein, fiber, and minerals\",\\n      \"Gluten-Free\": true,\\n      \"Glycemic Index\": 28,\\n      \"Trans Fats Content\": 0\\n    },\\n    \"Lentils\": {\\n      \"Nutritional Composition\": \"High in protein, fiber, and folate\",\\n      \"Gluten-Free\": true,\\n      \"Glycemic Index\": 32,\\n      \"Trans Fats Content\": 0\\n    },\\n    ...\\n  },\\n  \"Seeds\": {\\n    \"Chia Seeds\": {\\n      \"Nutritional Composition\": \"Rich in omega-3 fatty acids, fiber, and antioxidants\",\\n      \"Gluten-Free\": true,\\n      \"Glycemic Index\": 1,\\n      \"Trans Fats Content\": 0\\n    },\\n    \"Flaxseeds\": {\\n      \"Nutritional Composition\": \"High in omega-3 fatty acids, fiber, and lignans\",\\n      \"Gluten-Free\": true,\\n      \"Glycemic Index\": 0,\\n      \"Trans Fats Content\": 0\\n    },\\n    ...\\n  },\\n  \"Nuts\": {\\n    \"Almonds\": {\\n      \"Nutritional Composition\": \"Good source of healthy fats, protein, and fiber\",\\n      \"Gluten-Free\": true,\\n      \"Glycemic Index\": 0,\\n      \"Trans Fats Content\": 0\\n    },\\n    \"Walnuts\": {\\n      \"Nutritional Composition\": \"Rich in omega-3 fatty acids and antioxidants\",\\n      \"Gluten-Free\": true,\\n      \"Glycemic Index\": 0,\\n      \"Trans Fats Content\": 0\\n    },\\n    ...\\n  },\\n  \"Herbs/Spices\": {\\n    \"Basil\": {\\n      \"Nutritional Composition\": \"Rich in antioxidants and essential oils\",\\n      \"Gluten-Free\": true,\\n      \"Glycemic Index\": 0,\\n      \"Trans Fats Content\": 0\\n    },\\n    \"Turmeric\": {\\n      \"Nutritional Composition\": \"Anti-inflammatory properties and rich in antioxidants\",\\n      \"Gluten-Free\": true,\\n      \"Glycemic Index\": 0,\\n      \"Trans Fats Content\": 0\\n    },\\n    ...\\n  }\\n}'}]"
      ]
     },
     "execution_count": 215,
     "metadata": {},
     "output_type": "execute_result"
    }
   ],
   "source": [
    "# End of 1st conversation\n",
    "context"
   ]
  },
  {
   "cell_type": "markdown",
   "metadata": {
    "id": "4vfAv2yp0MFM"
   },
   "source": [
    "## Second conversation"
   ]
  },
  {
   "cell_type": "code",
   "execution_count": 258,
   "metadata": {
    "tags": []
   },
   "outputs": [],
   "source": [
    "# Starting with an empty context\n",
    "context = []\n",
    "# Same role\n",
    "context.append({'role':'system', 'content':system_role_prompt})"
   ]
  },
  {
   "cell_type": "markdown",
   "metadata": {
    "tags": []
   },
   "source": [
    "### Generating a diet plan"
   ]
  },
  {
   "cell_type": "code",
   "execution_count": 261,
   "metadata": {
    "tags": []
   },
   "outputs": [],
   "source": [
    "Diet_prompt_0 = f\"\"\"\n",
    "Please, write a diet for a complete week, including 5 meals per day.\n",
    "For each meal specify a recipe using only gluten free ingredients from the list below:\n",
    "####\n",
    "{Ingredients}\n",
    "####\n",
    "\"\"\""
   ]
  },
  {
   "cell_type": "code",
   "execution_count": 269,
   "metadata": {
    "tags": []
   },
   "outputs": [],
   "source": [
    "# Can't use this prompt as it exceeds the max tokens\n",
    "# num_tokens_from_messages(context)  "
   ]
  },
  {
   "cell_type": "code",
   "execution_count": 272,
   "metadata": {
    "tags": []
   },
   "outputs": [
    {
     "name": "stdout",
     "output_type": "stream",
     "text": [
      "['Apple', 'Banana', 'Pineapple', 'Strawberry', 'Grapes', 'Pears', 'Mango', 'Kiwi', 'Orange', 'Peach', 'Plum', 'Apricot', 'Broccoli', 'Carrot', 'Mushrooms', 'Artichoke', 'Aubergine', 'Asparagus', 'Cauliflower', 'Green Beans', 'Chard', 'Zucchini', 'Quinoa', 'Brown Rice', 'Oatmeal', 'Chicken Breast', 'Salmon', 'Lean Beef', 'White-fleshed Fish', 'Greek Yogurt', 'Almond Milk', 'Kefir', 'Chickpeas', 'Lentils', 'Soybeans', 'Peanuts', 'Chia Seeds', 'Flaxseeds', 'Almonds', 'Walnuts', 'Basil', 'Turmeric']\n"
     ]
    }
   ],
   "source": [
    "# Getting just a list of gluten free ingredients\n",
    "gf_list = []\n",
    "for category in ingredients_json_2.keys():\n",
    "    for item in ingredients_json_2.get(category).keys():\n",
    "        if ingredients_json_2.get(category).get(item).get('Gluten-Free') == True: \n",
    "            gf_list.append(item)\n",
    "print(gf_list)"
   ]
  },
  {
   "cell_type": "code",
   "execution_count": 273,
   "metadata": {
    "tags": []
   },
   "outputs": [],
   "source": [
    "Diet_prompt_1 = f\"\"\"\n",
    "Please, write a diet for a complete week, including 5 meals per day.\n",
    "For each meal specify a recipe using only ingredients from the list below:\n",
    "####\n",
    "{gf_list}\n",
    "####\n",
    "\"\"\""
   ]
  },
  {
   "cell_type": "code",
   "execution_count": 275,
   "metadata": {
    "tags": []
   },
   "outputs": [],
   "source": [
    "diet = chat_with_context(Diet_prompt_1)"
   ]
  },
  {
   "cell_type": "code",
   "execution_count": 277,
   "metadata": {
    "tags": []
   },
   "outputs": [
    {
     "name": "stdout",
     "output_type": "stream",
     "text": [
      "Sure! Here's a sample diet plan for a week, including 5 meals per day, using the ingredients from the list provided:\n",
      "\n",
      "Day 1:\n",
      "Breakfast: Oatmeal with sliced banana and a sprinkle of chia seeds.\n",
      "Snack: Greek yogurt with mixed berries (strawberries, blueberries, raspberries).\n",
      "Lunch: Grilled chicken breast with a side of steamed broccoli and brown rice.\n",
      "Snack: Carrot sticks with hummus.\n",
      "Dinner: Baked salmon with roasted asparagus and quinoa.\n",
      " \n",
      "Day 2:\n",
      "Breakfast: Scrambled eggs with sautéed mushrooms and spinach.\n",
      "Snack: Apple slices with almond butter.\n",
      "Lunch: Lentil salad with mixed greens, cherry tomatoes, and a lemon-turmeric dressing.\n",
      "Snack: Greek yogurt with sliced peaches and a sprinkle of flaxseeds.\n",
      "Dinner: Grilled lean beef with roasted zucchini and a side of quinoa.\n",
      "\n",
      "Day 3:\n",
      "Breakfast: Smoothie made with almond milk, mixed berries, and a handful of spinach.\n",
      "Snack: Greek yogurt with sliced mango and a sprinkle of almonds.\n",
      "Lunch: Grilled chicken breast with a side of roasted cauliflower and brown rice.\n",
      "Snack: Carrot sticks with hummus.\n",
      "Dinner: Baked white-fleshed fish with steamed green beans and quinoa.\n",
      "\n",
      "Day 4:\n",
      "Breakfast: Oatmeal with diced apple and a sprinkle of cinnamon.\n",
      "Snack: Greek yogurt with mixed berries (strawberries, blueberries, raspberries).\n",
      "Lunch: Quinoa salad with roasted vegetables (zucchini, bell peppers, and eggplant) and a lemon-basil dressing.\n",
      "Snack: Orange slices with a handful of walnuts.\n",
      "Dinner: Grilled salmon with sautéed chard and a side of brown rice.\n",
      "\n",
      "Day 5:\n",
      "Breakfast: Scrambled eggs with diced tomatoes and basil.\n",
      "Snack: Banana with almond butter.\n",
      "Lunch: Chickpea salad with mixed greens, cucumber, and a lemon-turmeric dressing.\n",
      "Snack: Greek yogurt with sliced pineapple and a sprinkle of chia seeds.\n",
      "Dinner: Grilled chicken breast with roasted broccoli and quinoa.\n",
      "\n",
      "Day 6:\n",
      "Breakfast: Smoothie made with almond milk, mixed berries, and a handful of spinach.\n",
      "Snack: Greek yogurt with sliced kiwi and a sprinkle of flaxseeds.\n",
      "Lunch: Lentil soup with carrots, celery, and mushrooms.\n",
      "Snack: Apple slices with almond butter.\n",
      "Dinner: Baked white-fleshed fish with steamed asparagus and brown rice.\n",
      "\n",
      "Day 7:\n",
      "Breakfast: Oatmeal with diced pear and a sprinkle of almonds.\n",
      "Snack: Greek yogurt with mixed berries (strawberries, blueberries, raspberries).\n",
      "Lunch: Grilled chicken breast with a side of roasted artichoke and quinoa.\n",
      "Snack: Carrot sticks with hummus.\n",
      "Dinner: Grilled lean beef with sautéed mushrooms and a side of brown rice.\n",
      "\n",
      "Remember to adjust portion sizes according to your individual needs and consult with a healthcare professional or registered dietitian for personalized advice. Enjoy your healthy meals!\n"
     ]
    }
   ],
   "source": [
    "print(diet)"
   ]
  },
  {
   "cell_type": "code",
   "execution_count": 279,
   "metadata": {
    "tags": []
   },
   "outputs": [],
   "source": [
    "Diet_prompt_2 = f\"\"\"\n",
    "Could you please translate the diet plan to Spanish (Spain)\"\"\""
   ]
  },
  {
   "cell_type": "code",
   "execution_count": 280,
   "metadata": {
    "tags": []
   },
   "outputs": [],
   "source": [
    "diet_es = chat_with_context(Diet_prompt_2)"
   ]
  },
  {
   "cell_type": "code",
   "execution_count": 281,
   "metadata": {
    "tags": []
   },
   "outputs": [
    {
     "name": "stdout",
     "output_type": "stream",
     "text": [
      "¡Claro! Aquí tienes un plan de dieta de muestra para una semana, que incluye 5 comidas al día, utilizando los ingredientes de la lista proporcionada:\n",
      "\n",
      "Día 1:\n",
      "Desayuno: Avena con plátano en rodajas y una pizca de semillas de chía.\n",
      "Merienda: Yogur griego con bayas mixtas (fresas, arándanos, frambuesas).\n",
      "Almuerzo: Pechuga de pollo a la parrilla con un lado de brócoli al vapor y arroz integral.\n",
      "Merienda: Bastones de zanahoria con hummus.\n",
      "Cena: Salmón al horno con espárragos asados y quinoa.\n",
      "\n",
      "Día 2:\n",
      "Desayuno: Huevos revueltos con champiñones salteados y espinacas.\n",
      "Merienda: Rodajas de manzana con mantequilla de almendras.\n",
      "Almuerzo: Ensalada de lentejas con mezcla de lechugas, tomates cherry y aderezo de limón y cúrcuma.\n",
      "Merienda: Yogur griego con melocotones en rodajas y una pizca de semillas de lino.\n",
      "Cena: Carne magra a la parrilla con calabacín asado y un lado de quinoa.\n",
      "\n",
      "Día 3:\n",
      "Desayuno: Batido hecho con leche de almendras, bayas mixtas y un puñado de espinacas.\n",
      "Merienda: Yogur griego con mango en rodajas y una pizca de almendras.\n",
      "Almuerzo: Pechuga de pollo a la parrilla con un lado de coliflor asada y arroz integral.\n",
      "Merienda: Bastones de zanahoria con hummus.\n",
      "Cena: Pescado blanco al horno con judías verdes al vapor y quinoa.\n",
      "\n",
      "Día 4:\n",
      "Desayuno: Avena con manzana en cubitos y una pizca de canela.\n",
      "Merienda: Yogur griego con bayas mixtas (fresas, arándanos, frambuesas).\n",
      "Almuerzo: Ensalada de quinoa con verduras asadas (calabacín, pimientos y berenjena) y aderezo de limón y albahaca.\n",
      "Merienda: Rodajas de naranja con un puñado de nueces.\n",
      "Cena: Salmón a la parrilla con acelga salteada y un lado de arroz integral.\n",
      "\n",
      "Día 5:\n",
      "Desayuno: Huevos revueltos con tomate en cubitos y albahaca.\n",
      "Merienda: Plátano con mantequilla de almendras.\n",
      "Almuerzo: Ensalada de garbanzos con mezcla de lechugas, pepino y aderezo de limón y cúrcuma.\n",
      "Merienda: Yogur griego con piña en rodajas y una pizca de semillas de chía.\n",
      "Cena: Pechuga de pollo a la parrilla con brócoli asado y quinoa.\n",
      "\n",
      "Día 6:\n",
      "Desayuno: Batido hecho con leche de almendras, bayas mixtas y un puñado de espinacas.\n",
      "Merienda: Yogur griego con kiwi en rodajas y una pizca de semillas de lino.\n",
      "Almuerzo: Sopa de lentejas con zanahorias, apio y champiñones.\n",
      "Merienda: Rodajas de manzana con mantequilla de almendras.\n",
      "Cena: Pescado blanco al horno con espárragos salteados y arroz integral.\n",
      "\n",
      "Día 7:\n",
      "Desayuno: Avena con pera en cubitos y una pizca de almendras.\n",
      "Merienda: Yogur griego con bayas mixtas (fresas, arándanos, frambuesas).\n",
      "Almuerzo: Pechuga de pollo a la parrilla con un lado de alcachofa asada y quinoa.\n",
      "Merienda: Bastones de zanahoria con hummus.\n",
      "Cena: Carne magra a la parrilla con champiñones salteados y un lado de arroz integral.\n",
      "\n",
      "Recuerda ajustar las porciones según tus necesidades individuales y consultar con un profesional de la salud o dietista registrado para obtener consejos personalizados. ¡Disfruta de tus comidas saludables!\n"
     ]
    }
   ],
   "source": [
    "print(diet_es)"
   ]
  },
  {
   "cell_type": "code",
   "execution_count": null,
   "metadata": {},
   "outputs": [],
   "source": []
  }
 ],
 "metadata": {
  "colab": {
   "provenance": []
  },
  "kernelspec": {
   "display_name": "Python 3 (ipykernel)",
   "language": "python",
   "name": "python3"
  },
  "language_info": {
   "codemirror_mode": {
    "name": "ipython",
    "version": 3
   },
   "file_extension": ".py",
   "mimetype": "text/x-python",
   "name": "python",
   "nbconvert_exporter": "python",
   "pygments_lexer": "ipython3",
   "version": "3.10.10"
  }
 },
 "nbformat": 4,
 "nbformat_minor": 4
}
