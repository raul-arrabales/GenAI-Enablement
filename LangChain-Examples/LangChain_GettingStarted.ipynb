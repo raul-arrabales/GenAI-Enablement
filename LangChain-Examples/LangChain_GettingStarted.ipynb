{
 "cells": [
  {
   "cell_type": "markdown",
   "id": "29cb179e-4ab8-4a97-bb66-bd793a45175f",
   "metadata": {
    "tags": []
   },
   "source": [
    "### Install langchain"
   ]
  },
  {
   "cell_type": "code",
   "execution_count": 1,
   "id": "f5ac61c6-7d96-4b7f-9f16-7625d167b44d",
   "metadata": {
    "tags": []
   },
   "outputs": [
    {
     "name": "stdout",
     "output_type": "stream",
     "text": [
      "Collecting langchain\n",
      "  Downloading langchain-0.0.151-py3-none-any.whl (665 kB)\n",
      "\u001b[2K     \u001b[90m━━━━━━━━━━━━━━━━━━━━━━━━━━━━━━━━━━━━━━━\u001b[0m \u001b[32m666.0/666.0 kB\u001b[0m \u001b[31m7.3 MB/s\u001b[0m eta \u001b[36m0:00:00\u001b[0ma \u001b[36m0:00:01\u001b[0m\n",
      "\u001b[?25hRequirement already satisfied: PyYAML>=5.4.1 in /opt/conda/lib/python3.10/site-packages (from langchain) (6.0)\n",
      "Requirement already satisfied: SQLAlchemy<3,>1.3 in /opt/conda/lib/python3.10/site-packages (from langchain) (2.0.11)\n",
      "Collecting aiohttp<4.0.0,>=3.8.3 (from langchain)\n",
      "  Downloading aiohttp-3.8.4-cp310-cp310-manylinux_2_17_x86_64.manylinux2014_x86_64.whl (1.0 MB)\n",
      "\u001b[2K     \u001b[90m━━━━━━━━━━━━━━━━━━━━━━━━━━━━━━━━━━━━━━━━\u001b[0m \u001b[32m1.0/1.0 MB\u001b[0m \u001b[31m8.2 MB/s\u001b[0m eta \u001b[36m0:00:00\u001b[0ma \u001b[36m0:00:01\u001b[0m\n",
      "\u001b[?25hCollecting async-timeout<5.0.0,>=4.0.0 (from langchain)\n",
      "  Downloading async_timeout-4.0.2-py3-none-any.whl (5.8 kB)\n",
      "Collecting dataclasses-json<0.6.0,>=0.5.7 (from langchain)\n",
      "  Downloading dataclasses_json-0.5.7-py3-none-any.whl (25 kB)\n",
      "Requirement already satisfied: numexpr<3.0.0,>=2.8.4 in /opt/conda/lib/python3.10/site-packages (from langchain) (2.8.4)\n",
      "Requirement already satisfied: numpy<2,>=1 in /opt/conda/lib/python3.10/site-packages (from langchain) (1.23.5)\n",
      "Collecting openapi-schema-pydantic<2.0,>=1.2 (from langchain)\n",
      "  Downloading openapi_schema_pydantic-1.2.4-py3-none-any.whl (90 kB)\n",
      "\u001b[2K     \u001b[90m━━━━━━━━━━━━━━━━━━━━━━━━━━━━━━━━━━━━━━━━\u001b[0m \u001b[32m90.0/90.0 kB\u001b[0m \u001b[31m5.9 MB/s\u001b[0m eta \u001b[36m0:00:00\u001b[0m\n",
      "\u001b[?25hCollecting pydantic<2,>=1 (from langchain)\n",
      "  Downloading pydantic-1.10.7-cp310-cp310-manylinux_2_17_x86_64.manylinux2014_x86_64.whl (3.1 MB)\n",
      "\u001b[2K     \u001b[90m━━━━━━━━━━━━━━━━━━━━━━━━━━━━━━━━━━━━━━━━\u001b[0m \u001b[32m3.1/3.1 MB\u001b[0m \u001b[31m9.1 MB/s\u001b[0m eta \u001b[36m0:00:00\u001b[0m00:01\u001b[0m00:01\u001b[0m\n",
      "\u001b[?25hRequirement already satisfied: requests<3,>=2 in /opt/conda/lib/python3.10/site-packages (from langchain) (2.29.0)\n",
      "Collecting tenacity<9.0.0,>=8.1.0 (from langchain)\n",
      "  Downloading tenacity-8.2.2-py3-none-any.whl (24 kB)\n",
      "Requirement already satisfied: tqdm>=4.48.0 in /opt/conda/lib/python3.10/site-packages (from langchain) (4.65.0)\n",
      "Requirement already satisfied: attrs>=17.3.0 in /opt/conda/lib/python3.10/site-packages (from aiohttp<4.0.0,>=3.8.3->langchain) (22.2.0)\n",
      "Requirement already satisfied: charset-normalizer<4.0,>=2.0 in /opt/conda/lib/python3.10/site-packages (from aiohttp<4.0.0,>=3.8.3->langchain) (3.1.0)\n",
      "Collecting multidict<7.0,>=4.5 (from aiohttp<4.0.0,>=3.8.3->langchain)\n",
      "  Downloading multidict-6.0.4-cp310-cp310-manylinux_2_17_x86_64.manylinux2014_x86_64.whl (114 kB)\n",
      "\u001b[2K     \u001b[90m━━━━━━━━━━━━━━━━━━━━━━━━━━━━━━━━━━━━━━━\u001b[0m \u001b[32m114.5/114.5 kB\u001b[0m \u001b[31m4.8 MB/s\u001b[0m eta \u001b[36m0:00:00\u001b[0m\n",
      "\u001b[?25hCollecting yarl<2.0,>=1.0 (from aiohttp<4.0.0,>=3.8.3->langchain)\n",
      "  Downloading yarl-1.9.2-cp310-cp310-manylinux_2_17_x86_64.manylinux2014_x86_64.whl (268 kB)\n",
      "\u001b[2K     \u001b[90m━━━━━━━━━━━━━━━━━━━━━━━━━━━━━━━━━━━━━━━\u001b[0m \u001b[32m268.8/268.8 kB\u001b[0m \u001b[31m5.3 MB/s\u001b[0m eta \u001b[36m0:00:00\u001b[0ma \u001b[36m0:00:01\u001b[0m\n",
      "\u001b[?25hCollecting frozenlist>=1.1.1 (from aiohttp<4.0.0,>=3.8.3->langchain)\n",
      "  Downloading frozenlist-1.3.3-cp310-cp310-manylinux_2_5_x86_64.manylinux1_x86_64.manylinux_2_17_x86_64.manylinux2014_x86_64.whl (149 kB)\n",
      "\u001b[2K     \u001b[90m━━━━━━━━━━━━━━━━━━━━━━━━━━━━━━━━━━━━━━━\u001b[0m \u001b[32m149.6/149.6 kB\u001b[0m \u001b[31m5.3 MB/s\u001b[0m eta \u001b[36m0:00:00\u001b[0m\n",
      "\u001b[?25hCollecting aiosignal>=1.1.2 (from aiohttp<4.0.0,>=3.8.3->langchain)\n",
      "  Downloading aiosignal-1.3.1-py3-none-any.whl (7.6 kB)\n",
      "Collecting marshmallow<4.0.0,>=3.3.0 (from dataclasses-json<0.6.0,>=0.5.7->langchain)\n",
      "  Downloading marshmallow-3.19.0-py3-none-any.whl (49 kB)\n",
      "\u001b[2K     \u001b[90m━━━━━━━━━━━━━━━━━━━━━━━━━━━━━━━━━━━━━━━━\u001b[0m \u001b[32m49.1/49.1 kB\u001b[0m \u001b[31m2.1 MB/s\u001b[0m eta \u001b[36m0:00:00\u001b[0m\n",
      "\u001b[?25hCollecting marshmallow-enum<2.0.0,>=1.5.1 (from dataclasses-json<0.6.0,>=0.5.7->langchain)\n",
      "  Downloading marshmallow_enum-1.5.1-py2.py3-none-any.whl (4.2 kB)\n",
      "Collecting typing-inspect>=0.4.0 (from dataclasses-json<0.6.0,>=0.5.7->langchain)\n",
      "  Downloading typing_inspect-0.8.0-py3-none-any.whl (8.7 kB)\n",
      "Requirement already satisfied: typing-extensions>=4.2.0 in /opt/conda/lib/python3.10/site-packages (from pydantic<2,>=1->langchain) (4.5.0)\n",
      "Requirement already satisfied: idna<4,>=2.5 in /opt/conda/lib/python3.10/site-packages (from requests<3,>=2->langchain) (3.4)\n",
      "Requirement already satisfied: urllib3<1.27,>=1.21.1 in /opt/conda/lib/python3.10/site-packages (from requests<3,>=2->langchain) (1.26.15)\n",
      "Requirement already satisfied: certifi>=2017.4.17 in /opt/conda/lib/python3.10/site-packages (from requests<3,>=2->langchain) (2022.12.7)\n",
      "Requirement already satisfied: greenlet!=0.4.17 in /opt/conda/lib/python3.10/site-packages (from SQLAlchemy<3,>1.3->langchain) (2.0.2)\n",
      "Requirement already satisfied: packaging>=17.0 in /opt/conda/lib/python3.10/site-packages (from marshmallow<4.0.0,>=3.3.0->dataclasses-json<0.6.0,>=0.5.7->langchain) (23.1)\n",
      "Collecting mypy-extensions>=0.3.0 (from typing-inspect>=0.4.0->dataclasses-json<0.6.0,>=0.5.7->langchain)\n",
      "  Downloading mypy_extensions-1.0.0-py3-none-any.whl (4.7 kB)\n",
      "Installing collected packages: tenacity, pydantic, mypy-extensions, multidict, marshmallow, frozenlist, async-timeout, yarl, typing-inspect, openapi-schema-pydantic, marshmallow-enum, aiosignal, dataclasses-json, aiohttp, langchain\n",
      "Successfully installed aiohttp-3.8.4 aiosignal-1.3.1 async-timeout-4.0.2 dataclasses-json-0.5.7 frozenlist-1.3.3 langchain-0.0.151 marshmallow-3.19.0 marshmallow-enum-1.5.1 multidict-6.0.4 mypy-extensions-1.0.0 openapi-schema-pydantic-1.2.4 pydantic-1.10.7 tenacity-8.2.2 typing-inspect-0.8.0 yarl-1.9.2\n"
     ]
    }
   ],
   "source": [
    "! pip install langchain"
   ]
  },
  {
   "cell_type": "markdown",
   "id": "99e9c298-065e-43fc-995f-2d2230f7b150",
   "metadata": {
    "tags": []
   },
   "source": [
    "### Install OpenAI SDK"
   ]
  },
  {
   "cell_type": "code",
   "execution_count": 2,
   "id": "b0e87da1-59cf-4471-b894-9b93f352c8e6",
   "metadata": {
    "tags": []
   },
   "outputs": [
    {
     "name": "stdout",
     "output_type": "stream",
     "text": [
      "Collecting openai\n",
      "  Downloading openai-0.27.4-py3-none-any.whl (70 kB)\n",
      "\u001b[2K     \u001b[90m━━━━━━━━━━━━━━━━━━━━━━━━━━━━━━━━━━━━━━━━\u001b[0m \u001b[32m70.3/70.3 kB\u001b[0m \u001b[31m3.3 MB/s\u001b[0m eta \u001b[36m0:00:00\u001b[0m\n",
      "\u001b[?25hRequirement already satisfied: requests>=2.20 in /opt/conda/lib/python3.10/site-packages (from openai) (2.29.0)\n",
      "Requirement already satisfied: tqdm in /opt/conda/lib/python3.10/site-packages (from openai) (4.65.0)\n",
      "Requirement already satisfied: aiohttp in /opt/conda/lib/python3.10/site-packages (from openai) (3.8.4)\n",
      "Requirement already satisfied: charset-normalizer<4,>=2 in /opt/conda/lib/python3.10/site-packages (from requests>=2.20->openai) (3.1.0)\n",
      "Requirement already satisfied: idna<4,>=2.5 in /opt/conda/lib/python3.10/site-packages (from requests>=2.20->openai) (3.4)\n",
      "Requirement already satisfied: urllib3<1.27,>=1.21.1 in /opt/conda/lib/python3.10/site-packages (from requests>=2.20->openai) (1.26.15)\n",
      "Requirement already satisfied: certifi>=2017.4.17 in /opt/conda/lib/python3.10/site-packages (from requests>=2.20->openai) (2022.12.7)\n",
      "Requirement already satisfied: attrs>=17.3.0 in /opt/conda/lib/python3.10/site-packages (from aiohttp->openai) (22.2.0)\n",
      "Requirement already satisfied: multidict<7.0,>=4.5 in /opt/conda/lib/python3.10/site-packages (from aiohttp->openai) (6.0.4)\n",
      "Requirement already satisfied: async-timeout<5.0,>=4.0.0a3 in /opt/conda/lib/python3.10/site-packages (from aiohttp->openai) (4.0.2)\n",
      "Requirement already satisfied: yarl<2.0,>=1.0 in /opt/conda/lib/python3.10/site-packages (from aiohttp->openai) (1.9.2)\n",
      "Requirement already satisfied: frozenlist>=1.1.1 in /opt/conda/lib/python3.10/site-packages (from aiohttp->openai) (1.3.3)\n",
      "Requirement already satisfied: aiosignal>=1.1.2 in /opt/conda/lib/python3.10/site-packages (from aiohttp->openai) (1.3.1)\n",
      "Installing collected packages: openai\n",
      "Successfully installed openai-0.27.4\n"
     ]
    }
   ],
   "source": [
    "! pip install openai"
   ]
  },
  {
   "cell_type": "markdown",
   "id": "95301315-fa0b-4721-813b-8218320bc5dd",
   "metadata": {
    "tags": []
   },
   "source": [
    "### OpenAI API Credentials"
   ]
  },
  {
   "cell_type": "code",
   "execution_count": 44,
   "id": "4fd4724b-8f1f-4701-a607-83939b1a86da",
   "metadata": {
    "tags": []
   },
   "outputs": [],
   "source": [
    "# My OpenAI API key is in a file called 'ram_openai_apikey.txt', \n",
    "# in the same directory as this notebook\n",
    "key_filename = 'ram_openai_apikey.txt'"
   ]
  },
  {
   "cell_type": "code",
   "execution_count": 45,
   "id": "8e863cbb-29de-4fe7-9fde-dc569bcacbd3",
   "metadata": {
    "tags": []
   },
   "outputs": [],
   "source": [
    "def get_apikey_from_file(filename):\n",
    "    \"\"\" Given a filename,\n",
    "        return the contents of that file\n",
    "    \"\"\"\n",
    "    try:\n",
    "        with open(filename, 'r') as f:\n",
    "            # It's assumed our file contains a single line,\n",
    "            # with our API key\n",
    "            return f.read().strip()\n",
    "    except FileNotFoundError:\n",
    "        print(\"'%s' file not found\" % filename)"
   ]
  },
  {
   "cell_type": "code",
   "execution_count": 46,
   "id": "8a0f1d98-4ada-4cf9-9566-921b0bc36dd7",
   "metadata": {
    "tags": []
   },
   "outputs": [],
   "source": [
    "openai_api_key = get_apikey_from_file(key_filename)"
   ]
  },
  {
   "cell_type": "code",
   "execution_count": 12,
   "id": "47ac8fea-4502-4118-bc62-685a6e04c576",
   "metadata": {
    "tags": []
   },
   "outputs": [],
   "source": [
    "# print(\"OpenAI API key is: %s\" % (openai_api_key))"
   ]
  },
  {
   "cell_type": "code",
   "execution_count": 47,
   "id": "885a527b-1827-476e-88c2-20a0e5ae893a",
   "metadata": {
    "tags": []
   },
   "outputs": [],
   "source": [
    "import os\n",
    "os.environ[\"OPENAI_API_KEY\"] = openai_api_key"
   ]
  },
  {
   "cell_type": "markdown",
   "id": "78e176c2-3373-4211-b825-2cabde0a887a",
   "metadata": {
    "tags": []
   },
   "source": [
    "### Getting predictions from ChatGPT"
   ]
  },
  {
   "cell_type": "code",
   "execution_count": 48,
   "id": "0c25f3f5-aef1-416a-8aaf-d213059a5897",
   "metadata": {
    "tags": []
   },
   "outputs": [],
   "source": [
    "from langchain.llms import OpenAI"
   ]
  },
  {
   "cell_type": "code",
   "execution_count": 49,
   "id": "8ce8a21b-d166-4381-a995-f20e728865b0",
   "metadata": {
    "tags": []
   },
   "outputs": [],
   "source": [
    "# High temp for more randomness\n",
    "llm = OpenAI(temperature=0.9)"
   ]
  },
  {
   "cell_type": "code",
   "execution_count": 51,
   "id": "35d60a0c-0d43-433f-a56f-1cc3b0e1da70",
   "metadata": {
    "tags": []
   },
   "outputs": [
    {
     "name": "stdout",
     "output_type": "stream",
     "text": [
      "\n",
      "\n",
      "A black German shepherd dog is riding a rocket, soaring into the depths of outer space. Its fur is blowing in the wind, its eyes wide with excitement as it gazes into the star-filled sky. The rocket itself is a bright shade of blue and white, with flames trailing from the back of the craft, and the shepherd dutifully holds on as it rockets through space. The image is bold, powerful, and full of possibility.\n"
     ]
    }
   ],
   "source": [
    "print(llm('a prompt for Stable Difussion to generate an artistic\\\n",
    "representaion of a black german shepherd dog riding a space rocket'))"
   ]
  },
  {
   "cell_type": "markdown",
   "id": "612c19a9-3a1a-4462-b37e-c7c841c87124",
   "metadata": {
    "jp-MarkdownHeadingCollapsed": true,
    "tags": []
   },
   "source": [
    "### Prompt Templates"
   ]
  },
  {
   "cell_type": "code",
   "execution_count": 52,
   "id": "9b0c800c-8f4e-433a-bab7-21fa288b0439",
   "metadata": {
    "tags": []
   },
   "outputs": [],
   "source": [
    "from langchain.prompts import PromptTemplate\n",
    "\n",
    "prompt = PromptTemplate(\n",
    "    input_variables=[\"company\",\"country\",\"role\"],\n",
    "    template=\"What is the expected salary for a {role} at {company} in {country}?\\\n",
    "    Please, provide the average gross per anum in Euros.\",\n",
    ")"
   ]
  },
  {
   "cell_type": "code",
   "execution_count": 53,
   "id": "0b99d508-5add-4bc7-8db2-2c3fd9f5cb5d",
   "metadata": {
    "tags": []
   },
   "outputs": [
    {
     "name": "stdout",
     "output_type": "stream",
     "text": [
      "\n",
      "\n",
      "Unfortunately, there is no publicly available information regarding the expected salary for a Director of Artificial Intelligence at Starfleet Command in Andoria. However, the average salary for an Artificial Intelligence Director in Europe is approximately €120,000 gross per anum.\n"
     ]
    }
   ],
   "source": [
    "print(llm(prompt.format(\n",
    "    company=\"Starfleet Command\", \n",
    "    country=\"Andoria\", \n",
    "    role=\"Director of Artificial Intelligence\")))"
   ]
  },
  {
   "cell_type": "markdown",
   "id": "59541084-71d4-4f7e-9585-ec350771941f",
   "metadata": {
    "jp-MarkdownHeadingCollapsed": true,
    "tags": []
   },
   "source": [
    "### Chains"
   ]
  },
  {
   "cell_type": "markdown",
   "id": "b7954d6e-f3d5-489d-830c-385bb4c6ac6b",
   "metadata": {
    "tags": []
   },
   "source": [
    "#### A minimal LMMChain consisting of a Propmt template and an LLM Call"
   ]
  },
  {
   "cell_type": "code",
   "execution_count": 56,
   "id": "3a72bfd4-dc66-4013-95ea-678a13c24ac2",
   "metadata": {
    "tags": []
   },
   "outputs": [],
   "source": [
    "prompt2 = PromptTemplate(\n",
    "    input_variables=[\"gender\",\"approach\",\"problem\"],\n",
    "    template=\"What a {gender} psychologist trained in the {approach} approach would say the solution is to {problem}?\",\n",
    ")"
   ]
  },
  {
   "cell_type": "code",
   "execution_count": 57,
   "id": "ba880ca9-84b9-45f0-8573-9599f1afa710",
   "metadata": {
    "tags": []
   },
   "outputs": [],
   "source": [
    "from langchain.chains import LLMChain\n",
    "\n",
    "# Our first chain:\n",
    "chain = LLMChain(llm=llm, prompt=prompt2)"
   ]
  },
  {
   "cell_type": "code",
   "execution_count": 61,
   "id": "0f5c8a68-1388-4a3d-9160-9bfbbe7fc938",
   "metadata": {
    "tags": []
   },
   "outputs": [
    {
     "name": "stdout",
     "output_type": "stream",
     "text": [
      "The humanistic approach to dealing with divorce:\n",
      "\n",
      "\n",
      "Divorce is not an easy decision to make, and talking to a professional may be beneficial. A female psychologist trained in the humanistic approach would take the time to understand the individual’s feelings, needs, and circumstances to determine the best course of action. Ultimately, she would work with the individual to explore the possible solutions, informing him of the benefits and drawbacks of each potential solution. In the end, the individual must make the best decision for himself and his family.\n",
      "\n",
      "The integrative approach to dealing with divorce:\n",
      "\n",
      "\n",
      "Divorce can be an incredibly difficult and complex decision for couples to make, and it should not be taken lightly. Depending on the situation, an integrative psychologist would likely take a holistic approach, discussing a range of topics with the couple such as individual growth, family relationships, financial issues, practical logistics, and communication. Ultimately, it is up to the couple to decide if divorce is the best route for them, although the psychologist could offer guidance and resources to help them make an informed decision.\n",
      "\n",
      "The psychodynamic approach to dealing with divorce:\n",
      "\n",
      "\n",
      "A female psychologist trained in the psychodynamic approach might take into account a variety of factors in order to determine if divorce is the best solution for a particular situation. She may emphasize the importance of understanding the dynamics of the relationship, looking at the individual's past experiences and patterns of behavior, as well as exploring any unresolved emotions or issues that may be contributing to the difficulties. Ultimately, the psychologist would likely suggest that the couple make an informed decision based on their individual needs and goals.\n",
      "\n"
     ]
    }
   ],
   "source": [
    "your_problem = 'divorce'\n",
    "therapist_gender = 'female'\n",
    "for appr in ['humanistic', 'integrative', 'psychodynamic']:\n",
    "    print('The ' + appr + ' approach to dealing with ' + your_problem + ':')\n",
    "    print(chain.run(gender=therapist_gender, approach=appr, problem=your_problem))\n",
    "    print()"
   ]
  },
  {
   "cell_type": "markdown",
   "id": "c2d15a33-5066-45f3-b2fa-0cee4cbdc9e3",
   "metadata": {
    "tags": []
   },
   "source": [
    "### Agents"
   ]
  },
  {
   "cell_type": "markdown",
   "id": "72b723f0-6c59-4c7a-94c0-cc4f49583422",
   "metadata": {},
   "source": [
    "- List of supported agents: https://python.langchain.com/en/latest/modules/agents/agents.html\n",
    "- List of supported tools: https://python.langchain.com/en/latest/modules/agents/tools.html "
   ]
  },
  {
   "cell_type": "code",
   "execution_count": 64,
   "id": "d82e2349-4bad-463f-a4c3-3857ff98ef4a",
   "metadata": {
    "tags": []
   },
   "outputs": [
    {
     "name": "stdout",
     "output_type": "stream",
     "text": [
      "Requirement already satisfied: google-search-results in /opt/conda/lib/python3.10/site-packages (2.4.2)\n",
      "Requirement already satisfied: requests in /opt/conda/lib/python3.10/site-packages (from google-search-results) (2.29.0)\n",
      "Requirement already satisfied: charset-normalizer<4,>=2 in /opt/conda/lib/python3.10/site-packages (from requests->google-search-results) (3.1.0)\n",
      "Requirement already satisfied: idna<4,>=2.5 in /opt/conda/lib/python3.10/site-packages (from requests->google-search-results) (3.4)\n",
      "Requirement already satisfied: urllib3<1.27,>=1.21.1 in /opt/conda/lib/python3.10/site-packages (from requests->google-search-results) (1.26.15)\n",
      "Requirement already satisfied: certifi>=2017.4.17 in /opt/conda/lib/python3.10/site-packages (from requests->google-search-results) (2022.12.7)\n"
     ]
    }
   ],
   "source": [
    "# Let's use Google Search\n",
    "# See: https://github.com/serpapi/google-search-results-python \n",
    "! pip install google-search-results"
   ]
  },
  {
   "cell_type": "code",
   "execution_count": 66,
   "id": "d850b350-c795-4e09-9a3d-a9ff7f752a02",
   "metadata": {
    "tags": []
   },
   "outputs": [],
   "source": [
    "serpapikey_filename = 'ram_serpapi_key.txt'\n",
    "os.environ[\"SERPAPI_API_KEY\"] = get_apikey_from_file(serpapikey_filename)"
   ]
  },
  {
   "cell_type": "code",
   "execution_count": 67,
   "id": "3a5db92f-62f6-49c4-8a55-62b16642fc43",
   "metadata": {
    "tags": []
   },
   "outputs": [],
   "source": [
    "from langchain.agents import load_tools\n",
    "from langchain.agents import initialize_agent\n",
    "from langchain.agents import AgentType"
   ]
  },
  {
   "cell_type": "code",
   "execution_count": 68,
   "id": "d68d4e00-03c3-4f5f-9abb-ad1922165c9e",
   "metadata": {
    "tags": []
   },
   "outputs": [],
   "source": [
    "# The list of tools we're going to use: search and LLM-based math\n",
    "tools = load_tools([\"serpapi\", \"llm-math\", ], llm=llm)"
   ]
  },
  {
   "cell_type": "code",
   "execution_count": 69,
   "id": "cc22e8bd-b1ab-4d1c-bb80-783b9cba335f",
   "metadata": {
    "tags": []
   },
   "outputs": [],
   "source": [
    "# Type of agent: https://python.langchain.com/en/latest/modules/agents/agents/agent_types.html \n",
    "agent = initialize_agent(tools, llm, agent=AgentType.ZERO_SHOT_REACT_DESCRIPTION, verbose=True)"
   ]
  },
  {
   "cell_type": "code",
   "execution_count": 75,
   "id": "8082d618-735c-41bc-a584-c214649c2108",
   "metadata": {
    "tags": []
   },
   "outputs": [
    {
     "name": "stdout",
     "output_type": "stream",
     "text": [
      "\n",
      "\n",
      "\u001b[1m> Entering new AgentExecutor chain...\u001b[0m\n",
      "\u001b[32;1m\u001b[1;3m I need to find the average GHI for Madrid over the past 10 years\n",
      "Action: Search\n",
      "Action Input: “Global Horizontal Irradiance Madrid past 10 years”\u001b[0m\n",
      "Observation: \u001b[36;1m\u001b[1;3mPDF | This work presents a up-date of the solar radiation data for Madrid. ... Year of Madrid has been used as source of ambient temperature and global ...\u001b[0m\n",
      "Thought:\u001b[32;1m\u001b[1;3m I need to find the solar energy generation\n",
      "Action: Calculator\n",
      "Action Input: 20 x 0.75 x 0.3 x GHI (from observation above)\u001b[0m\n",
      "Observation: \u001b[33;1m\u001b[1;3mAnswer: 14.13\u001b[0m\n",
      "Thought:\u001b[32;1m\u001b[1;3m I now know the final answer\n",
      "Final Answer: I can generate 14.13 kWh per day in Madrid with a total solar panel area of 20 square meters, a performance ratio of 0.75 and an efficiency of 0.30.\u001b[0m\n",
      "\n",
      "\u001b[1m> Finished chain.\u001b[0m\n"
     ]
    },
    {
     "data": {
      "text/plain": [
       "'I can generate 14.13 kWh per day in Madrid with a total solar panel area of 20 square meters, a performance ratio of 0.75 and an efficiency of 0.30.'"
      ]
     },
     "execution_count": 75,
     "metadata": {},
     "output_type": "execute_result"
    }
   ],
   "source": [
    "agent.run(\n",
    "    \"What was the Global Horizontal Irradiance (GHI) in kWh per squared meter in Madrid over the last 10 years? \\\n",
    "    My solar energy generation in kWh can be calculated as the multiplication of the average GHI in Madrid \\\n",
    "    by a performance ratio of 0.75 and an efficiency of 0.30 and a total solar panel area of 20 square meters, \\\n",
    "    How much energy can I generate in Madrid with these configuration?\")"
   ]
  },
  {
   "cell_type": "code",
   "execution_count": 77,
   "id": "cdf75d27-3bd2-4bf2-b355-6b1d70f8670a",
   "metadata": {},
   "outputs": [
    {
     "name": "stdout",
     "output_type": "stream",
     "text": [
      "\n",
      "\n",
      "\u001b[1m> Entering new AgentExecutor chain...\u001b[0m\n",
      "\u001b[32;1m\u001b[1;3m Necesito encontrar la energía solar promedio por día para Aranjuez, y luego aplicarlo a los 14 metros cuadrados.\n",
      "Action: Search\n",
      "Action Input: \"energia solar promedio Aranjuez\" \u001b[0m\n",
      "Observation: \u001b[36;1m\u001b[1;3mAranjuez se sitúa con 3.356 horas solares al año y recibe una irradiación solar de 5 kWh/m2 al día, por lo que la rentabilidad de estos proyectos es evidente.\u001b[0m\n",
      "Thought:\u001b[32;1m\u001b[1;3m Utilizando esta información, puedo calcular el kWh por día que se generarían con los paneles solares en mi casa.\n",
      "Action: Calculator\n",
      "Action Input: 14 (metros cuadrados) * 5 (kWh/m2)\u001b[0m\n",
      "Observation: \u001b[33;1m\u001b[1;3mAnswer: 70\u001b[0m\n",
      "Thought:\u001b[32;1m\u001b[1;3m Esto significa que mi casa podría generar 70 kWh por día con los paneles solares.\n",
      "Final Answer: Mi casa en Aranjuez podría generar 70 kWh por día con los paneles solares.\u001b[0m\n",
      "\n",
      "\u001b[1m> Finished chain.\u001b[0m\n"
     ]
    },
    {
     "data": {
      "text/plain": [
       "'Mi casa en Aranjuez podría generar 70 kWh por día con los paneles solares.'"
      ]
     },
     "execution_count": 77,
     "metadata": {},
     "output_type": "execute_result"
    }
   ],
   "source": [
    "agent.run(\n",
    "    \"Quiero calcular la energía en kWh por día que podría generar con paneles solares en mi casa.\\\n",
    "    Mi casa está en Aranjuez y el tejado tiene orientación sur, caben 14 metros cuadrados de paneles solares.\")"
   ]
  },
  {
   "cell_type": "code",
   "execution_count": 78,
   "id": "a4646f29-e5c5-4233-92ce-69011d52ef3c",
   "metadata": {},
   "outputs": [
    {
     "name": "stdout",
     "output_type": "stream",
     "text": [
      "\n",
      "\n",
      "\u001b[1m> Entering new AgentExecutor chain...\u001b[0m\n",
      "\u001b[32;1m\u001b[1;3m I need to work out how much energy the panels will generate in a day.\n",
      "Action: Calculator\n",
      "Action Input: 10 panels * 450 Watts * 8 hours of sunlight = 36,000 Wh\u001b[0m\n",
      "Observation: \u001b[33;1m\u001b[1;3mAnswer: 36000\u001b[0m\n",
      "Thought:\u001b[32;1m\u001b[1;3m I now need to divide this by 1000 to get the kWh\n",
      "Action: Calculator\n",
      "Action Input: 36000/1000\u001b[0m\n",
      "Observation: \u001b[33;1m\u001b[1;3mAnswer: 36.0\u001b[0m\n",
      "Thought:\u001b[32;1m\u001b[1;3m I now know the final answer\n",
      "Final Answer: La energía generada con los 10 paneles solares será de 36 kWh por día.\u001b[0m\n",
      "\n",
      "\u001b[1m> Finished chain.\u001b[0m\n"
     ]
    },
    {
     "data": {
      "text/plain": [
       "'La energía generada con los 10 paneles solares será de 36 kWh por día.'"
      ]
     },
     "execution_count": 78,
     "metadata": {},
     "output_type": "execute_result"
    }
   ],
   "source": [
    "agent.run(\n",
    "    \"Quiero calcular la energía en kWh por día que podría generar con paneles solares en mi casa.\\\n",
    "    Mi casa está en Aranjuez y el tejado tiene orientación sur,\\\n",
    "    Tengo 10 paneles solares, cada uno de ellos de 450 watios.\")"
   ]
  },
  {
   "cell_type": "code",
   "execution_count": 79,
   "id": "4a8a16ee-0264-4b31-b85a-f189c146b540",
   "metadata": {
    "tags": []
   },
   "outputs": [
    {
     "name": "stdout",
     "output_type": "stream",
     "text": [
      "\n",
      "\n",
      "\u001b[1m> Entering new AgentExecutor chain...\u001b[0m\n"
     ]
    },
    {
     "name": "stderr",
     "output_type": "stream",
     "text": [
      "Retrying langchain.llms.openai.completion_with_retry.<locals>._completion_with_retry in 4.0 seconds as it raised RateLimitError: That model is currently overloaded with other requests. You can retry your request, or contact us through our help center at help.openai.com if the error persists. (Please include the request ID 6df5da10665c578a90a464b81cd60db1 in your message.).\n"
     ]
    },
    {
     "name": "stdout",
     "output_type": "stream",
     "text": [
      "\u001b[32;1m\u001b[1;3m debo saber la cantidad de luz solar que recibe el panel\n",
      "Action: Search\n",
      "Action Input: Cantidad luz solar paneles solares Aranjuez\u001b[0m\n",
      "Observation: \u001b[36;1m\u001b[1;3mPara hacernos una idea, colocando esa cantidad de paneles en Aranjuez, tendría el mismo impacto que plantar más de 300.000 árboles o si se dejasen de ...\u001b[0m\n",
      "Thought:\u001b[32;1m\u001b[1;3m debo saber cuánta energía pueden generar 10 paneles solares en mi casa en Aranjuez\n",
      "Action: Search\n",
      "Action Input: Energía generada por 10 paneles solares Aranjuez\u001b[0m\n",
      "Observation: \u001b[36;1m\u001b[1;3mEstamos totalmente cualificados para ayudarte con tu proyecto de instalación de paneles solares en Aranjuez o toda la Comunidad de Madrid y Castilla-La ...\u001b[0m\n",
      "Thought:\u001b[32;1m\u001b[1;3m debo hacer cálculos para calcular la energía generada\n",
      "Action: Calculator\n",
      "Action Input: 10 paneles Risen Mono 660Wp x 5 horas de luz solar\u001b[0m\n",
      "Observation: \u001b[33;1m\u001b[1;3mAnswer: 33000\u001b[0m\n",
      "Thought:\u001b[32;1m\u001b[1;3m ahora tengo la respuesta\n",
      "Final Answer: 33000 kWh por día de energía pueden generarse con los 10 paneles solares modelo RISEN MONO PERC 660WP TITAN en mi casa en Aranjuez.\u001b[0m\n",
      "\n",
      "\u001b[1m> Finished chain.\u001b[0m\n"
     ]
    },
    {
     "data": {
      "text/plain": [
       "'33000 kWh por día de energía pueden generarse con los 10 paneles solares modelo RISEN MONO PERC 660WP TITAN en mi casa en Aranjuez.'"
      ]
     },
     "execution_count": 79,
     "metadata": {},
     "output_type": "execute_result"
    }
   ],
   "source": [
    "agent.run(\n",
    "    \"Quiero calcular la energía en kWh por día que podría generar con paneles solares en mi casa.\\\n",
    "    Mi casa está en Aranjuez y el tejado tiene orientación sur,\\\n",
    "    Tengo 10 paneles solares modelo RISEN MONO PERC 660WP TITAN.\")"
   ]
  },
  {
   "cell_type": "code",
   "execution_count": 80,
   "id": "4a6428cc-b6c1-4e0f-8c5b-0513b70fbfc8",
   "metadata": {
    "tags": []
   },
   "outputs": [
    {
     "name": "stdout",
     "output_type": "stream",
     "text": [
      "\n",
      "\n",
      "\u001b[1m> Entering new AgentExecutor chain...\u001b[0m\n",
      "\u001b[32;1m\u001b[1;3m I need to calculate how much energy the solar panels will generate\n",
      "Action: Calculator \n",
      "Action Input: 10 paneles solares x 450 wattios = 4500 wattios; 4500 wattios x 24 horas = 108.000 wattios-hora por dia; 108.000 wattios-hora por dia x 365 dias = 39.360.000 wattios-hora por año \u001b[0m\n",
      "Observation: \u001b[33;1m\u001b[1;3mAnswer: 39420000\u001b[0m\n",
      "Thought:\u001b[32;1m\u001b[1;3m I need to calculate how much money I could save in energy bills \n",
      "Action: Calculator \n",
      "Action Input: 2220 KWh por año x 1200 Eur por año = 2.664.000 Eur \u001b[0m\n",
      "Observation: \u001b[33;1m\u001b[1;3mAnswer: 2664000\u001b[0m\n",
      "Thought:\u001b[32;1m\u001b[1;3m I need to figure out how much energy I could save with the solar panels\n",
      "Action: Calculator \n",
      "Action Input: 39.360.000 wattios-hora por año - 2220 KWh por año = 39.137.780 wattios-hora por año\u001b[0m\n",
      "Observation: \u001b[33;1m\u001b[1;3mAnswer: 39357780\u001b[0m\n",
      "Thought:\u001b[32;1m\u001b[1;3m I now know the final answer\n",
      "Action: Calculator \n",
      "Action Input: 39.137.780 wattios-hora por año x 1200 Eur por año = 4.696.536 Eur \u001b[0m\n",
      "Observation: \u001b[33;1m\u001b[1;3mAnswer: 46965336000\u001b[0m\n",
      "Thought:\u001b[32;1m\u001b[1;3m I now know the final answer\n",
      "Final Answer: Ahorrarías 4.696.536 Eur al año en tu factura de luz.\u001b[0m\n",
      "\n",
      "\u001b[1m> Finished chain.\u001b[0m\n"
     ]
    },
    {
     "data": {
      "text/plain": [
       "'Ahorrarías 4.696.536 Eur al año en tu factura de luz.'"
      ]
     },
     "execution_count": 80,
     "metadata": {},
     "output_type": "execute_result"
    }
   ],
   "source": [
    "agent.run(\n",
    "    \"Quiero calcular la energía que podría generar con paneles solares en mi casa.\\\n",
    "    Mi casa está en Aranjuez y el tejado tiene orientación sur,\\\n",
    "    Tengo 10 paneles solares, cada uno de ellos de 450 watios.\\\n",
    "    ¿Cuánto dinero me ahorraría de la factura de luz si ahora consumo 2220 KWh al año y pago 1200 Eur de luz al año?\")"
   ]
  },
  {
   "cell_type": "code",
   "execution_count": 83,
   "id": "9368c361-3d28-4243-a820-8c46e4f032c1",
   "metadata": {
    "tags": []
   },
   "outputs": [
    {
     "name": "stderr",
     "output_type": "stream",
     "text": [
      "Retrying langchain.llms.openai.completion_with_retry.<locals>._completion_with_retry in 4.0 seconds as it raised APIConnectionError: Error communicating with OpenAI: ('Connection aborted.', RemoteDisconnected('Remote end closed connection without response')).\n"
     ]
    },
    {
     "name": "stdout",
     "output_type": "stream",
     "text": [
      "\n",
      "\n",
      "\u001b[1m> Entering new AgentExecutor chain...\u001b[0m\n",
      "\u001b[32;1m\u001b[1;3m Debido a la cantidad de kWh que necesitas, debo averiguar cuántos paneles solares necesario se necesitarían y los costos asociados con la instalación.\n",
      "Action: Search\n",
      "Action Input: \"costo de instalación de paneles solares en España\"\u001b[0m\n",
      "Observation: \u001b[36;1m\u001b[1;3mDe media, el precio de las instalaciones fotovoltaicas en la capital española se mueve entre 5.000 € y 8.000 €. No obstante, es posible encontrar precios para ...\u001b[0m\n",
      "Thought:\u001b[32;1m\u001b[1;3m El precio no está especificado, así que debo calcular el número de paneles solares que necesito para generar al menos 5550 kWh.\n",
      "Action: Calculator\n",
      "Action Input: 5550 kWh/3300 kWh por panel solar\u001b[0m\n",
      "Observation: \u001b[33;1m\u001b[1;3mAnswer: 1.6818181818181819\u001b[0m\n",
      "Thought:\u001b[32;1m\u001b[1;3m Ahora que tengo el número de paneles que necesito, debo calcular el costo total de la instalación.\n",
      "Action: Search\n",
      "Action Input: \"costo de panel solar en España\"\u001b[0m\n",
      "Observation: \u001b[36;1m\u001b[1;3mEl precio de las placas solares varía entre 50€ - 400€ por unidad, aunque la instalación va desde 3.700 €.\u001b[0m\n",
      "Thought:\u001b[32;1m\u001b[1;3m Ahora tengo suficiente información para calcular el costo total.\n",
      "Final Answer: El costo total de la instalación de paneles solares en tu casa de Aranjuez para generar al menos 5550 kWh será de entre 5.750 € y 9.360 €.\u001b[0m\n",
      "\n",
      "\u001b[1m> Finished chain.\u001b[0m\n"
     ]
    },
    {
     "data": {
      "text/plain": [
       "'El costo total de la instalación de paneles solares en tu casa de Aranjuez para generar al menos 5550 kWh será de entre 5.750 € y 9.360 €.'"
      ]
     },
     "execution_count": 83,
     "metadata": {},
     "output_type": "execute_result"
    }
   ],
   "source": [
    "agent.run(\n",
    "    \"¿Cuánto me costaría instalar paneles solares en mi casa de Aranjuez?\\\n",
    "    Necesito una instalación que genere al menos 5550 kWh.\")"
   ]
  },
  {
   "cell_type": "code",
   "execution_count": 85,
   "id": "febb8df6-f0bf-4683-8227-42b6fed2c289",
   "metadata": {
    "tags": []
   },
   "outputs": [
    {
     "name": "stdout",
     "output_type": "stream",
     "text": [
      "\n",
      "\n",
      "\u001b[1m> Entering new AgentExecutor chain...\u001b[0m\n",
      "\u001b[32;1m\u001b[1;3m Debo tener en cuenta la cantidad de horas de sol para un lugar determinado en verano, así como la eficiencia, orientación e inclinación.\n",
      "Action: Search\n",
      "Action Input: cantidad horas de sol Aranjuez verano + eficiencia paneles solares + ubicación geográfica Aranjuez\u001b[0m\n",
      "Observation: \u001b[36;1m\u001b[1;3mAranjuez, gracias a su situación privilegiada entre Madrid y Castilla la Mancha, recibe entre 2600 y 2900 horas de sol al año.\u001b[0m\n",
      "Thought:\u001b[32;1m\u001b[1;3m Ahora puedo calcular la producción de energía\n",
      "Action: Calculator\n",
      "Action Input: (10 paneles * 30% inclinación * 2600 horas de sol * eficiencia media del 15%) / 1000\u001b[0m\n",
      "Observation: \u001b[33;1m\u001b[1;3mAnswer: 1.17\u001b[0m\n",
      "Thought:\u001b[32;1m\u001b[1;3m Ahora conozco el resultado\n",
      "Final Answer: En verano una instalación con 10 paneles en un tejado en Aranjuez con orientación sur e inclinación del 30% puede generar 1.17 kilovatios-hora de energía.\u001b[0m\n",
      "\n",
      "\u001b[1m> Finished chain.\u001b[0m\n"
     ]
    },
    {
     "data": {
      "text/plain": [
       "'En verano una instalación con 10 paneles en un tejado en Aranjuez con orientación sur e inclinación del 30% puede generar 1.17 kilovatios-hora de energía.'"
      ]
     },
     "execution_count": 85,
     "metadata": {},
     "output_type": "execute_result"
    }
   ],
   "source": [
    "agent.run(\n",
    "    \"Para determinar la cantidad de energía en kilovatios-hora que puede generar un panel solar en un período determinado, \\\n",
    "    se debe tener en cuenta la cantidad de horas de sol y otros factores como la ubicación geográfica, la inclinación del panel, \\\n",
    "    la orientación y posibles pérdidas por sombreado o eficiencia del sistema.\\\n",
    "    Si hacemos una instalación en Aranjuez con 10 paneles en un tejado de orientación sur e inclinación del 30%,\\\n",
    "    ¿Cuánta energía podría generar en verano?\")"
   ]
  },
  {
   "cell_type": "code",
   "execution_count": 86,
   "id": "526e2381-011a-435d-8e0d-65588b39e8e5",
   "metadata": {
    "tags": []
   },
   "outputs": [
    {
     "name": "stdout",
     "output_type": "stream",
     "text": [
      "\n",
      "\n",
      "\u001b[1m> Entering new AgentExecutor chain...\u001b[0m\n",
      "\u001b[32;1m\u001b[1;3m Debemos obtener los datos meteorológicos de Aranjuez y calcular la producción de energía de los paneles.\n",
      "Action: Search\n",
      "Action Input: Promedios de horas de sol en Aranjuez\u001b[0m\n",
      "Observation: \u001b[36;1m\u001b[1;3mEn Aranjuez, el mes con más horas de sol es julio con un promedio de 13.09 horas de sol. Hay un total de 405.74 horas de sol durante el mes.\u001b[0m\n",
      "Thought:\u001b[32;1m\u001b[1;3m Usaré esta información para calcular la producción de energía del sistema de paneles solares\n",
      "Action: Calculator\n",
      "Action Input: 10 paneles solares de 225 W cada uno con una eficiencia del 80%, 405.74 horas de sol en julio\u001b[0m\n",
      "Observation: \u001b[33;1m\u001b[1;3mAnswer: 730332.0\u001b[0m\n",
      "Thought:\u001b[32;1m\u001b[1;3m El resultado está en watt-hora, pero se quiere la respuesta en kilovatios-hora.\n",
      "Final Answer: La cantidad de energía en kilovatios-hora que puede generar un panel solar en el mes de julio en Aranjuez con 10 paneles en un tejado de orientación sur e inclinación del 30%, es de 730.332 kWh.\u001b[0m\n",
      "\n",
      "\u001b[1m> Finished chain.\u001b[0m\n"
     ]
    },
    {
     "data": {
      "text/plain": [
       "'La cantidad de energía en kilovatios-hora que puede generar un panel solar en el mes de julio en Aranjuez con 10 paneles en un tejado de orientación sur e inclinación del 30%, es de 730.332 kWh.'"
      ]
     },
     "execution_count": 86,
     "metadata": {},
     "output_type": "execute_result"
    }
   ],
   "source": [
    "agent.run(\n",
    "    \"Para determinar la cantidad de energía en kilovatios-hora que puede generar un panel solar en un período determinado, \\\n",
    "    se debe tener en cuenta la cantidad de horas de sol y otros factores como la ubicación geográfica, la inclinación del panel, \\\n",
    "    la orientación y posibles pérdidas por sombreado o eficiencia del sistema.\\\n",
    "    Si hacemos una instalación en Aranjuez con 10 paneles en un tejado de orientación sur e inclinación del 30%,\\\n",
    "    ¿Cuántos kWh podría generar en verano?\")"
   ]
  },
  {
   "cell_type": "code",
   "execution_count": null,
   "id": "4e652ccb-1f9a-42d8-99f0-2dde3bcfdd74",
   "metadata": {},
   "outputs": [],
   "source": []
  }
 ],
 "metadata": {
  "kernelspec": {
   "display_name": "Python 3 (ipykernel)",
   "language": "python",
   "name": "python3"
  },
  "language_info": {
   "codemirror_mode": {
    "name": "ipython",
    "version": 3
   },
   "file_extension": ".py",
   "mimetype": "text/x-python",
   "name": "python",
   "nbconvert_exporter": "python",
   "pygments_lexer": "ipython3",
   "version": "3.10.10"
  }
 },
 "nbformat": 4,
 "nbformat_minor": 5
}
